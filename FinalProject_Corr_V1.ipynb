{
 "cells": [
  {
   "cell_type": "markdown",
   "metadata": {},
   "source": [
    "# Theft Detection using meter data for Microgrid in Haiti"
   ]
  },
  {
   "cell_type": "markdown",
   "metadata": {},
   "source": [
    "For our project we have chosen to work with 15 minute resolution data for a microgrid in Haiti.This microgrid is owned & operated by EarthSpark International and the metering infrastructure is provided by SparkMeter who provides the base AMI as well as cloud services like data storage, meter control, automatic billing and grid performance analysis.\n",
    "\n",
    "The microgrid in Haiti experiences theft owing to the low income demographic in the region. We aim to analyse the data in order to detect theft or non-technical loss and pin point on the theft offenders. \n",
    "\n",
    "We've given below a step by step walkthrough of the process utilitzed to detect theft. At the heart of the process we use the concept of correlation to figure out the offenders."
   ]
  },
  {
   "cell_type": "code",
   "execution_count": 1,
   "metadata": {
    "collapsed": false
   },
   "outputs": [],
   "source": [
    "import pandas as pd\n",
    "import numpy as np\n",
    "from scipy import stats\n",
    "import matplotlib.pyplot as plt\n",
    "import matplotlib.dates as mdates\n",
    "%matplotlib inline"
   ]
  },
  {
   "cell_type": "markdown",
   "metadata": {},
   "source": [
    "# Data Load\n",
    "The Detailed consumption file provides the consumption per customer at the end of a given heartbeat for each subnet. Our first task is to load the two files for detailed consumption and for the losses. We will only foucs on the BC subnet within the dataset. In this segment we noticed that both files have data from the same region but one of the files has a time offset. This offset affects the way the object is converted to the datetime, hence we strip it off the time. \n",
    "\n"
   ]
  },
  {
   "cell_type": "code",
   "execution_count": 2,
   "metadata": {
    "collapsed": false
   },
   "outputs": [
    {
     "name": "stderr",
     "output_type": "stream",
     "text": [
      "C:\\Users\\varun\\Anaconda3\\envs\\snakes\\lib\\site-packages\\pandas\\core\\indexing.py:465: SettingWithCopyWarning: \n",
      "A value is trying to be set on a copy of a slice from a DataFrame.\n",
      "Try using .loc[row_indexer,col_indexer] = value instead\n",
      "\n",
      "See the caveats in the documentation: http://pandas.pydata.org/pandas-docs/stable/indexing.html#indexing-view-versus-copy\n",
      "  self.obj[item] = s\n",
      "C:\\Users\\varun\\Anaconda3\\envs\\snakes\\lib\\site-packages\\pandas\\core\\generic.py:2701: SettingWithCopyWarning: \n",
      "A value is trying to be set on a copy of a slice from a DataFrame.\n",
      "Try using .loc[row_indexer,col_indexer] = value instead\n",
      "\n",
      "See the caveats in the documentation: http://pandas.pydata.org/pandas-docs/stable/indexing.html#indexing-view-versus-copy\n",
      "  self[name] = value\n"
     ]
    },
    {
     "data": {
      "text/html": [
       "<div>\n",
       "<table border=\"1\" class=\"dataframe\">\n",
       "  <thead>\n",
       "    <tr style=\"text-align: right;\">\n",
       "      <th></th>\n",
       "      <th>serial</th>\n",
       "      <th>heartbeat_end</th>\n",
       "      <th>subnet</th>\n",
       "      <th>kilowatt_hours</th>\n",
       "      <th>true_power_avg</th>\n",
       "    </tr>\n",
       "  </thead>\n",
       "  <tbody>\n",
       "    <tr>\n",
       "      <th>0</th>\n",
       "      <td>SM15R-01-0000028A</td>\n",
       "      <td>2016-04-27 19:30:00</td>\n",
       "      <td>BC</td>\n",
       "      <td>0.000156</td>\n",
       "      <td>0</td>\n",
       "    </tr>\n",
       "    <tr>\n",
       "      <th>1</th>\n",
       "      <td>SM15R-01-00000290</td>\n",
       "      <td>2016-04-27 19:30:00</td>\n",
       "      <td>BC</td>\n",
       "      <td>0.000000</td>\n",
       "      <td>0</td>\n",
       "    </tr>\n",
       "    <tr>\n",
       "      <th>2</th>\n",
       "      <td>SM15R-01-00000273</td>\n",
       "      <td>2016-04-27 19:30:00</td>\n",
       "      <td>BC</td>\n",
       "      <td>0.000281</td>\n",
       "      <td>0</td>\n",
       "    </tr>\n",
       "    <tr>\n",
       "      <th>3</th>\n",
       "      <td>SM15R-01-0000026C</td>\n",
       "      <td>2016-04-27 19:30:00</td>\n",
       "      <td>BC</td>\n",
       "      <td>0.000812</td>\n",
       "      <td>2</td>\n",
       "    </tr>\n",
       "    <tr>\n",
       "      <th>4</th>\n",
       "      <td>SM15R-01-00000184</td>\n",
       "      <td>2016-04-27 19:30:00</td>\n",
       "      <td>BC</td>\n",
       "      <td>0.000937</td>\n",
       "      <td>2</td>\n",
       "    </tr>\n",
       "  </tbody>\n",
       "</table>\n",
       "</div>"
      ],
      "text/plain": [
       "              serial       heartbeat_end subnet  kilowatt_hours  \\\n",
       "0  SM15R-01-0000028A 2016-04-27 19:30:00     BC        0.000156   \n",
       "1  SM15R-01-00000290 2016-04-27 19:30:00     BC        0.000000   \n",
       "2  SM15R-01-00000273 2016-04-27 19:30:00     BC        0.000281   \n",
       "3  SM15R-01-0000026C 2016-04-27 19:30:00     BC        0.000812   \n",
       "4  SM15R-01-00000184 2016-04-27 19:30:00     BC        0.000937   \n",
       "\n",
       "   true_power_avg  \n",
       "0               0  \n",
       "1               0  \n",
       "2               0  \n",
       "3               2  \n",
       "4               2  "
      ]
     },
     "execution_count": 2,
     "metadata": {},
     "output_type": "execute_result"
    }
   ],
   "source": [
    "detailed_consumption = pd.read_csv(\"LA_detailed_consumption.csv\")\n",
    "detailed_bc = detailed_consumption[detailed_consumption.subnet == 'BC']\n",
    "detailed_bc.reset_index(inplace = True, drop = True)\n",
    "detailed_bc.loc[:,'heartbeat_end'] = detailed_bc.loc[:,'heartbeat_end'].apply(lambda x: x.replace('+00:00',''))\n",
    "detailed_bc.heartbeat_end = pd.to_datetime(detailed_bc.heartbeat_end,infer_datetime_format=True)\n",
    "detailed_bc.head()"
   ]
  },
  {
   "cell_type": "markdown",
   "metadata": {},
   "source": [
    "Similarly peform the same extraction for the Losses in BC. The losses in BC contains the cumulative readings for all meters/ customers within the subnet at the end of the given heartbeat. The dataset has also been classified into 4 times of hours of day i.e. \n",
    "<ol>\n",
    "<li>\n",
    "daytime 9-19 \n",
    "</li>\n",
    "<li>night_23-6</li>\n",
    "<li>morning_6-9</li>\n",
    "<li>evening_19-23</li>\n",
    "</ol>"
   ]
  },
  {
   "cell_type": "code",
   "execution_count": 3,
   "metadata": {
    "collapsed": false,
    "scrolled": true
   },
   "outputs": [
    {
     "data": {
      "text/html": [
       "<div>\n",
       "<table border=\"1\" class=\"dataframe\">\n",
       "  <thead>\n",
       "    <tr style=\"text-align: right;\">\n",
       "      <th></th>\n",
       "      <th>heartbeat_end</th>\n",
       "      <th>day</th>\n",
       "      <th>subnet</th>\n",
       "      <th>num_cust</th>\n",
       "      <th>kwh_cust</th>\n",
       "      <th>w_avg_cust</th>\n",
       "      <th>cost</th>\n",
       "      <th>num_cust_off</th>\n",
       "      <th>num_tot</th>\n",
       "      <th>kwh_tot</th>\n",
       "      <th>w_avg_tot</th>\n",
       "      <th>kWh_self_active</th>\n",
       "      <th>kWh_self_inactive</th>\n",
       "      <th>kwh_TL</th>\n",
       "      <th>kwh_NTL</th>\n",
       "      <th>month</th>\n",
       "      <th>period</th>\n",
       "      <th>tod</th>\n",
       "    </tr>\n",
       "  </thead>\n",
       "  <tbody>\n",
       "    <tr>\n",
       "      <th>0</th>\n",
       "      <td>2016-02-04 19:00:00</td>\n",
       "      <td>2016-02-04</td>\n",
       "      <td>BC</td>\n",
       "      <td>101.0</td>\n",
       "      <td>0.233750</td>\n",
       "      <td>830.0</td>\n",
       "      <td>13.122656</td>\n",
       "      <td>14.0</td>\n",
       "      <td>2</td>\n",
       "      <td>0.374750</td>\n",
       "      <td>1496</td>\n",
       "      <td>0.06525</td>\n",
       "      <td>0.0056</td>\n",
       "      <td>0.082537</td>\n",
       "      <td>0.058462</td>\n",
       "      <td>2</td>\n",
       "      <td>-35</td>\n",
       "      <td>evening_19-23</td>\n",
       "    </tr>\n",
       "    <tr>\n",
       "      <th>1</th>\n",
       "      <td>2016-02-04 19:15:00</td>\n",
       "      <td>2016-02-04</td>\n",
       "      <td>BC</td>\n",
       "      <td>101.0</td>\n",
       "      <td>0.230719</td>\n",
       "      <td>822.0</td>\n",
       "      <td>13.310156</td>\n",
       "      <td>14.0</td>\n",
       "      <td>2</td>\n",
       "      <td>0.372375</td>\n",
       "      <td>1484</td>\n",
       "      <td>0.06525</td>\n",
       "      <td>0.0056</td>\n",
       "      <td>0.082386</td>\n",
       "      <td>0.059270</td>\n",
       "      <td>2</td>\n",
       "      <td>-35</td>\n",
       "      <td>evening_19-23</td>\n",
       "    </tr>\n",
       "    <tr>\n",
       "      <th>2</th>\n",
       "      <td>2016-02-04 19:30:00</td>\n",
       "      <td>2016-02-04</td>\n",
       "      <td>BC</td>\n",
       "      <td>101.0</td>\n",
       "      <td>0.233687</td>\n",
       "      <td>832.0</td>\n",
       "      <td>13.352813</td>\n",
       "      <td>15.0</td>\n",
       "      <td>2</td>\n",
       "      <td>0.373969</td>\n",
       "      <td>1492</td>\n",
       "      <td>0.06450</td>\n",
       "      <td>0.0060</td>\n",
       "      <td>0.082184</td>\n",
       "      <td>0.058097</td>\n",
       "      <td>2</td>\n",
       "      <td>-35</td>\n",
       "      <td>evening_19-23</td>\n",
       "    </tr>\n",
       "    <tr>\n",
       "      <th>3</th>\n",
       "      <td>2016-02-04 19:45:00</td>\n",
       "      <td>2016-02-04</td>\n",
       "      <td>BC</td>\n",
       "      <td>101.0</td>\n",
       "      <td>0.231687</td>\n",
       "      <td>820.0</td>\n",
       "      <td>13.248750</td>\n",
       "      <td>15.0</td>\n",
       "      <td>2</td>\n",
       "      <td>0.396719</td>\n",
       "      <td>1582</td>\n",
       "      <td>0.06450</td>\n",
       "      <td>0.0060</td>\n",
       "      <td>0.082084</td>\n",
       "      <td>0.082947</td>\n",
       "      <td>2</td>\n",
       "      <td>-35</td>\n",
       "      <td>evening_19-23</td>\n",
       "    </tr>\n",
       "    <tr>\n",
       "      <th>4</th>\n",
       "      <td>2016-02-04 20:00:00</td>\n",
       "      <td>2016-02-04</td>\n",
       "      <td>BC</td>\n",
       "      <td>101.0</td>\n",
       "      <td>0.245031</td>\n",
       "      <td>882.0</td>\n",
       "      <td>13.976719</td>\n",
       "      <td>15.0</td>\n",
       "      <td>2</td>\n",
       "      <td>0.422438</td>\n",
       "      <td>1684</td>\n",
       "      <td>0.06450</td>\n",
       "      <td>0.0060</td>\n",
       "      <td>0.082752</td>\n",
       "      <td>0.094655</td>\n",
       "      <td>2</td>\n",
       "      <td>-35</td>\n",
       "      <td>evening_19-23</td>\n",
       "    </tr>\n",
       "  </tbody>\n",
       "</table>\n",
       "</div>"
      ],
      "text/plain": [
       "        heartbeat_end         day subnet  num_cust  kwh_cust  w_avg_cust  \\\n",
       "0 2016-02-04 19:00:00  2016-02-04     BC     101.0  0.233750       830.0   \n",
       "1 2016-02-04 19:15:00  2016-02-04     BC     101.0  0.230719       822.0   \n",
       "2 2016-02-04 19:30:00  2016-02-04     BC     101.0  0.233687       832.0   \n",
       "3 2016-02-04 19:45:00  2016-02-04     BC     101.0  0.231687       820.0   \n",
       "4 2016-02-04 20:00:00  2016-02-04     BC     101.0  0.245031       882.0   \n",
       "\n",
       "        cost  num_cust_off  num_tot   kwh_tot  w_avg_tot  kWh_self_active  \\\n",
       "0  13.122656          14.0        2  0.374750       1496          0.06525   \n",
       "1  13.310156          14.0        2  0.372375       1484          0.06525   \n",
       "2  13.352813          15.0        2  0.373969       1492          0.06450   \n",
       "3  13.248750          15.0        2  0.396719       1582          0.06450   \n",
       "4  13.976719          15.0        2  0.422438       1684          0.06450   \n",
       "\n",
       "   kWh_self_inactive    kwh_TL   kwh_NTL  month  period            tod  \n",
       "0             0.0056  0.082537  0.058462      2     -35  evening_19-23  \n",
       "1             0.0056  0.082386  0.059270      2     -35  evening_19-23  \n",
       "2             0.0060  0.082184  0.058097      2     -35  evening_19-23  \n",
       "3             0.0060  0.082084  0.082947      2     -35  evening_19-23  \n",
       "4             0.0060  0.082752  0.094655      2     -35  evening_19-23  "
      ]
     },
     "execution_count": 3,
     "metadata": {},
     "output_type": "execute_result"
    }
   ],
   "source": [
    "losses = pd.read_csv(\"LA_losses.csv\")\n",
    "losses_bc = losses[losses.subnet =='BC']\n",
    "losses_bc.heartbeat_end = losses_bc.heartbeat_end.apply(lambda x: x.replace('-05:00',''))\n",
    "losses_bc.heartbeat_end = pd.to_datetime(losses_bc.heartbeat_end,infer_datetime_format=True)\n",
    "losses_bc.head()"
   ]
  },
  {
   "cell_type": "markdown",
   "metadata": {},
   "source": [
    "We would now like to combine both these data sets to get a holistic view of every individual customers reading against the total consumption and total loss for each heartbeat. Hence we perform an inner join on the heartbeat. We only consider the times when the meter reading was not zero as we suspect that this may be due to an error hence, the 0 reading may act as noise in trying to identify patterns of corelation."
   ]
  },
  {
   "cell_type": "code",
   "execution_count": 4,
   "metadata": {
    "collapsed": false
   },
   "outputs": [
    {
     "name": "stdout",
     "output_type": "stream",
     "text": [
      "dataset size: 717324\n"
     ]
    },
    {
     "data": {
      "text/html": [
       "<div>\n",
       "<table border=\"1\" class=\"dataframe\">\n",
       "  <thead>\n",
       "    <tr style=\"text-align: right;\">\n",
       "      <th></th>\n",
       "      <th>serial</th>\n",
       "      <th>heartbeat_end</th>\n",
       "      <th>subnet_x</th>\n",
       "      <th>kilowatt_hours</th>\n",
       "      <th>true_power_avg</th>\n",
       "      <th>day</th>\n",
       "      <th>subnet_y</th>\n",
       "      <th>num_cust</th>\n",
       "      <th>kwh_cust</th>\n",
       "      <th>w_avg_cust</th>\n",
       "      <th>...</th>\n",
       "      <th>num_tot</th>\n",
       "      <th>kwh_tot</th>\n",
       "      <th>w_avg_tot</th>\n",
       "      <th>kWh_self_active</th>\n",
       "      <th>kWh_self_inactive</th>\n",
       "      <th>kwh_TL</th>\n",
       "      <th>kwh_NTL</th>\n",
       "      <th>month</th>\n",
       "      <th>period</th>\n",
       "      <th>tod</th>\n",
       "    </tr>\n",
       "  </thead>\n",
       "  <tbody>\n",
       "    <tr>\n",
       "      <th>0</th>\n",
       "      <td>SM15R-01-0000028A</td>\n",
       "      <td>2016-04-27 19:30:00</td>\n",
       "      <td>BC</td>\n",
       "      <td>0.000156</td>\n",
       "      <td>0</td>\n",
       "      <td>2016-04-27</td>\n",
       "      <td>BC</td>\n",
       "      <td>102.0</td>\n",
       "      <td>0.326</td>\n",
       "      <td>1178.0</td>\n",
       "      <td>...</td>\n",
       "      <td>2</td>\n",
       "      <td>0.550156</td>\n",
       "      <td>2198</td>\n",
       "      <td>0.069</td>\n",
       "      <td>0.004</td>\n",
       "      <td>0.0893</td>\n",
       "      <td>0.134856</td>\n",
       "      <td>4</td>\n",
       "      <td>-23</td>\n",
       "      <td>evening_19-23</td>\n",
       "    </tr>\n",
       "    <tr>\n",
       "      <th>2</th>\n",
       "      <td>SM15R-01-00000273</td>\n",
       "      <td>2016-04-27 19:30:00</td>\n",
       "      <td>BC</td>\n",
       "      <td>0.000281</td>\n",
       "      <td>0</td>\n",
       "      <td>2016-04-27</td>\n",
       "      <td>BC</td>\n",
       "      <td>102.0</td>\n",
       "      <td>0.326</td>\n",
       "      <td>1178.0</td>\n",
       "      <td>...</td>\n",
       "      <td>2</td>\n",
       "      <td>0.550156</td>\n",
       "      <td>2198</td>\n",
       "      <td>0.069</td>\n",
       "      <td>0.004</td>\n",
       "      <td>0.0893</td>\n",
       "      <td>0.134856</td>\n",
       "      <td>4</td>\n",
       "      <td>-23</td>\n",
       "      <td>evening_19-23</td>\n",
       "    </tr>\n",
       "    <tr>\n",
       "      <th>3</th>\n",
       "      <td>SM15R-01-0000026C</td>\n",
       "      <td>2016-04-27 19:30:00</td>\n",
       "      <td>BC</td>\n",
       "      <td>0.000812</td>\n",
       "      <td>2</td>\n",
       "      <td>2016-04-27</td>\n",
       "      <td>BC</td>\n",
       "      <td>102.0</td>\n",
       "      <td>0.326</td>\n",
       "      <td>1178.0</td>\n",
       "      <td>...</td>\n",
       "      <td>2</td>\n",
       "      <td>0.550156</td>\n",
       "      <td>2198</td>\n",
       "      <td>0.069</td>\n",
       "      <td>0.004</td>\n",
       "      <td>0.0893</td>\n",
       "      <td>0.134856</td>\n",
       "      <td>4</td>\n",
       "      <td>-23</td>\n",
       "      <td>evening_19-23</td>\n",
       "    </tr>\n",
       "    <tr>\n",
       "      <th>4</th>\n",
       "      <td>SM15R-01-00000184</td>\n",
       "      <td>2016-04-27 19:30:00</td>\n",
       "      <td>BC</td>\n",
       "      <td>0.000937</td>\n",
       "      <td>2</td>\n",
       "      <td>2016-04-27</td>\n",
       "      <td>BC</td>\n",
       "      <td>102.0</td>\n",
       "      <td>0.326</td>\n",
       "      <td>1178.0</td>\n",
       "      <td>...</td>\n",
       "      <td>2</td>\n",
       "      <td>0.550156</td>\n",
       "      <td>2198</td>\n",
       "      <td>0.069</td>\n",
       "      <td>0.004</td>\n",
       "      <td>0.0893</td>\n",
       "      <td>0.134856</td>\n",
       "      <td>4</td>\n",
       "      <td>-23</td>\n",
       "      <td>evening_19-23</td>\n",
       "    </tr>\n",
       "    <tr>\n",
       "      <th>7</th>\n",
       "      <td>SM15R-01-00000200</td>\n",
       "      <td>2016-04-27 19:30:00</td>\n",
       "      <td>BC</td>\n",
       "      <td>0.000344</td>\n",
       "      <td>0</td>\n",
       "      <td>2016-04-27</td>\n",
       "      <td>BC</td>\n",
       "      <td>102.0</td>\n",
       "      <td>0.326</td>\n",
       "      <td>1178.0</td>\n",
       "      <td>...</td>\n",
       "      <td>2</td>\n",
       "      <td>0.550156</td>\n",
       "      <td>2198</td>\n",
       "      <td>0.069</td>\n",
       "      <td>0.004</td>\n",
       "      <td>0.0893</td>\n",
       "      <td>0.134856</td>\n",
       "      <td>4</td>\n",
       "      <td>-23</td>\n",
       "      <td>evening_19-23</td>\n",
       "    </tr>\n",
       "  </tbody>\n",
       "</table>\n",
       "<p>5 rows × 22 columns</p>\n",
       "</div>"
      ],
      "text/plain": [
       "              serial       heartbeat_end subnet_x  kilowatt_hours  \\\n",
       "0  SM15R-01-0000028A 2016-04-27 19:30:00       BC        0.000156   \n",
       "2  SM15R-01-00000273 2016-04-27 19:30:00       BC        0.000281   \n",
       "3  SM15R-01-0000026C 2016-04-27 19:30:00       BC        0.000812   \n",
       "4  SM15R-01-00000184 2016-04-27 19:30:00       BC        0.000937   \n",
       "7  SM15R-01-00000200 2016-04-27 19:30:00       BC        0.000344   \n",
       "\n",
       "   true_power_avg         day subnet_y  num_cust  kwh_cust  w_avg_cust  \\\n",
       "0               0  2016-04-27       BC     102.0     0.326      1178.0   \n",
       "2               0  2016-04-27       BC     102.0     0.326      1178.0   \n",
       "3               2  2016-04-27       BC     102.0     0.326      1178.0   \n",
       "4               2  2016-04-27       BC     102.0     0.326      1178.0   \n",
       "7               0  2016-04-27       BC     102.0     0.326      1178.0   \n",
       "\n",
       "       ...        num_tot   kwh_tot  w_avg_tot  kWh_self_active  \\\n",
       "0      ...              2  0.550156       2198            0.069   \n",
       "2      ...              2  0.550156       2198            0.069   \n",
       "3      ...              2  0.550156       2198            0.069   \n",
       "4      ...              2  0.550156       2198            0.069   \n",
       "7      ...              2  0.550156       2198            0.069   \n",
       "\n",
       "   kWh_self_inactive  kwh_TL   kwh_NTL  month  period            tod  \n",
       "0              0.004  0.0893  0.134856      4     -23  evening_19-23  \n",
       "2              0.004  0.0893  0.134856      4     -23  evening_19-23  \n",
       "3              0.004  0.0893  0.134856      4     -23  evening_19-23  \n",
       "4              0.004  0.0893  0.134856      4     -23  evening_19-23  \n",
       "7              0.004  0.0893  0.134856      4     -23  evening_19-23  \n",
       "\n",
       "[5 rows x 22 columns]"
      ]
     },
     "execution_count": 4,
     "metadata": {},
     "output_type": "execute_result"
    }
   ],
   "source": [
    "bc_consumption = pd.merge(detailed_bc, losses_bc, how='inner', on = 'heartbeat_end')\n",
    "bc_consumption = bc_consumption[bc_consumption.kilowatt_hours>0]\n",
    "print \"dataset size:\", len(bc_consumption)\n",
    "bc_consumption.head()"
   ]
  },
  {
   "cell_type": "markdown",
   "metadata": {},
   "source": [
    "We would now like to analyze the consumption patterns of each user at a given time of day. We spit the dataset to time of day so we are able to better identify \n",
    "<ol>\n",
    "<li>\n",
    "Who are likely contenders of causing theft </li>\n",
    "<li>When does theft occur most</li>\n",
    "</ol>"
   ]
  },
  {
   "cell_type": "code",
   "execution_count": 5,
   "metadata": {
    "collapsed": false
   },
   "outputs": [],
   "source": [
    "bc_consumption.dropna(axis = 0, inplace = True)\n",
    "grouped_bc = bc_consumption.groupby(['day', 'serial','tod'])"
   ]
  },
  {
   "cell_type": "markdown",
   "metadata": {},
   "source": [
    "We compute the pearson correlation scores for each group i.e. the individual consumption vs the NTL loss. The idea is to find customers with frequent high negative correlations i.e. \n",
    "\n",
    "<ul>\n",
    "<li>When the NTL loss increases the customers usage decreases, implying they may be stealing at this time.</li>\n",
    "<li>When the NTL loss decreases the customers usage increases, implying the loss marginally decreases because they stopped stealing.</li>\n",
    "</ul>\n",
    "\n",
    "We make sure that we have at least 10 data points so we the method is able to compute a meaningful correlation. We only consider those cases where the p value is less that 0.05. "
   ]
  },
  {
   "cell_type": "code",
   "execution_count": 6,
   "metadata": {
    "collapsed": false
   },
   "outputs": [],
   "source": [
    "dates = []\n",
    "user = []\n",
    "score =[]\n",
    "tod =[]\n",
    "for name ,group in grouped_bc:\n",
    "    corr =  stats.pearsonr(group['kwh_NTL'], group['kilowatt_hours'])\n",
    "    if corr[1] <= 0.05 and len(group)>10:\n",
    "        dates.append(name[0])\n",
    "        user.append(name[1])\n",
    "        score.append(corr[0])\n",
    "        tod.append(name[2])"
   ]
  },
  {
   "cell_type": "markdown",
   "metadata": {},
   "source": [
    "This gives us the below set of data points"
   ]
  },
  {
   "cell_type": "code",
   "execution_count": 7,
   "metadata": {
    "collapsed": false
   },
   "outputs": [],
   "source": [
    "corr_df = pd.DataFrame(columns = ['user','date','score','tod'])\n",
    "corr_df['user'] = user\n",
    "corr_df['date'] = dates\n",
    "corr_df['score'] = score\n",
    "corr_df['tod'] = tod\n"
   ]
  },
  {
   "cell_type": "markdown",
   "metadata": {},
   "source": [
    "We now have the consumption patters we only consider the negative correlations. We then find the customers who have high repeated cases of negative correlations. "
   ]
  },
  {
   "cell_type": "code",
   "execution_count": 8,
   "metadata": {
    "collapsed": false
   },
   "outputs": [
    {
     "data": {
      "text/plain": [
       "SM15R-01-000001A6    150\n",
       "SM15R-01-0000031D    101\n",
       "SM15R-01-000001B2     89\n",
       "SM15R-01-0000011F     80\n",
       "SM15R-01-000000C8     76\n",
       "SM15R-01-000000DD     69\n",
       "SM15R-01-0000021C     65\n",
       "SM15R-01-0000020C     65\n",
       "SM15R-01-0000013F     64\n",
       "SM15R-01-000001F6     61\n",
       "Name: user, dtype: int64"
      ]
     },
     "execution_count": 8,
     "metadata": {},
     "output_type": "execute_result"
    }
   ],
   "source": [
    "corr_df = corr_df.sort_values(by= ['date','score'], ascending = [True,True])\n",
    "corr_n = corr_df[corr_df.score<0]\n",
    "corr_n.user.value_counts().head(10)\n",
    "\n"
   ]
  },
  {
   "cell_type": "code",
   "execution_count": 9,
   "metadata": {
    "collapsed": false
   },
   "outputs": [
    {
     "name": "stdout",
     "output_type": "stream",
     "text": [
      "Theft counts per time of day:\n",
      "Count tod\n",
      "856   daytime_9-19\n",
      "707   evening_19-23\n",
      "124   morning_6-9\n",
      "1584   night_23-6\n",
      "\n",
      "Top 10 Offenders at night time:\n",
      "SM15R-01-000001A6    59\n",
      "SM15R-01-000001AD    41\n",
      "SM15R-01-0000011F    41\n",
      "SM15R-01-00000196    30\n",
      "SM15R-01-000001B2    29\n",
      "SM15R-01-0000020C    29\n",
      "SM15R-01-000000FE    29\n",
      "SM15R-01-0000012F    28\n",
      "SM15R-01-00000113    28\n",
      "SM15R-01-000002F1    27\n",
      "Name: user, dtype: int64\n"
     ]
    }
   ],
   "source": [
    "top_th = corr_n.user.value_counts()\n",
    "\n",
    "top5 = []\n",
    "\n",
    "for i in range(5):\n",
    "    top5.append(top_th.index[i])\n",
    "\n",
    "print \"Theft counts per time of day:\"\n",
    "temp = corr_n.groupby(['tod'])\n",
    "print \"Count\" , \"tod\"\n",
    "for name, grp in temp:\n",
    "    print len(grp) ,\" \", name\n",
    "    \n",
    "corr_night = corr_n[corr_n.tod == 'night_23-6']\n",
    "corr_night = corr_night[corr_night.score< -0.50]\n",
    "\n",
    "print \"\\nTop 10 Offenders at night time:\"\n",
    "print corr_night.user.value_counts()[:10]\n",
    "# print corr_night[corr_night.user =='SM15R-01-000001A6']\n",
    "#     print name\n",
    "# commonDates = []\n",
    "# for i in range(5):\n",
    "#      commonDates.extend(list(set(corr_n[corr_n.user ==top5[i]].date)))\n",
    "\n",
    "# d = {commonDates.count(x):x for x in commonDates}\n",
    "# print d.values(), d.keys()\n",
    "\n",
    "# count = 0\n",
    "\n",
    "# for off in top5:\n",
    "#     count = count + 1\n",
    "#     x = bc_consumption[bc_consumption['serial'] == off]\n",
    "#     x =x[x['day']=='2016-06-11']\n",
    "#     if count == 3 or count == 4:\n",
    "#         continue\n",
    "#     x.kilowatt_hours.plot(x =x.heartbeat_end, label=\"Kwh\", legend=True)\n",
    "#     x.kwh_NTL.plot(x =x.heartbeat_end,secondary_y=True, label=\"kwh_NTL\", legend=True)\n",
    "# plt.show()"
   ]
  },
  {
   "cell_type": "code",
   "execution_count": 10,
   "metadata": {
    "collapsed": false
   },
   "outputs": [
    {
     "data": {
      "image/png": "[encoded data removed]",
      "text/plain": [
       "<matplotlib.figure.Figure at 0xb68ef28>"
      ]
     },
     "metadata": {},
     "output_type": "display_data"
    }
   ],
   "source": [
    "offenderA = bc_consumption[bc_consumption['serial'] == 'SM15R-01-000001A6']\n",
    "x =offenderA[offenderA['day']=='2016-06-03']\n",
    "# x = x[x.tod =='night_23-6']\n",
    "plt.figure(figsize=(20,20))\n",
    "# print x.heartbeat_end.\n",
    "x.kilowatt_hours.plot(x =x.heartbeat_end, label=\"Kwh\", legend=True)\n",
    "x.kwh_NTL.plot(x =x.heartbeat_end,secondary_y=True, label=\"kwh_NTL\", legend=True)\n",
    "# plt.plot(x.heartbeat_end,x.kilowatt_hours,'r')\n",
    "# plt.plot(x.heartbeat_end,x.kwh_NTL,'g')\n",
    "plt.show()\n"
   ]
  },
  {
   "cell_type": "code",
   "execution_count": null,
   "metadata": {
    "collapsed": true
   },
   "outputs": [],
   "source": []
  }
 ],
 "metadata": {
  "anaconda-cloud": {},
  "kernelspec": {
   "display_name": "Python [snakes]",
   "language": "python",
   "name": "Python [snakes]"
  },
  "language_info": {
   "codemirror_mode": {
    "name": "ipython",
    "version": 2
   },
   "file_extension": ".py",
   "mimetype": "text/x-python",
   "name": "python",
   "nbconvert_exporter": "python",
   "pygments_lexer": "ipython2",
   "version": "2.7.12"
  }
 },
 "nbformat": 4,
 "nbformat_minor": 0
}
