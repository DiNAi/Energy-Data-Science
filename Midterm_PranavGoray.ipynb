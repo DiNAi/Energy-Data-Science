{
 "cells": [
  {
   "cell_type": "markdown",
   "metadata": {},
   "source": [
    " # Evaluation of load disaggregation algorithms using NILMTK"
   ]
  },
  {
   "cell_type": "markdown",
   "metadata": {},
   "source": [
    "## INTRODUCTION"
   ]
  },
  {
   "cell_type": "markdown",
   "metadata": {},
   "source": [
    "In recent years, there has been a lot of interest in non-intrusive load monitoring and load disaggregation of building energy data. One of the emerging efforts in this space is the development of the Non-Intrusive Load Monitoring Toolkit (NILMTK), an open source toolkit designed specifically for the application of meter energy data disaggregation [1]. There have been a number of research studies on this topic which have produced publicly available datasets of meter data. NILMTK is a step towards a development of a common platform to load, process, apply algorithms and evaluate the results on the various available public datasets."
   ]
  },
  {
   "cell_type": "markdown",
   "metadata": {},
   "source": [
    "For our project, we first show the NILMTK process pipeline on two datasets:\n",
    "\n",
    "REDD: Reference Energy Disaggregation Dataset, the first publicly available dataset collected specifically for NILM. \n",
    "\n",
    "IAWE: Indian data for Ambient Water and Electricity Sensing contains both aggregate and sub-metered power data from a single house.\n",
    "\n",
    "NILMTK has an inbuilt data converter framework which allows users to convert NILM datasets to binary format using Hierarchical Data Format (HD5). This is an efficient way of storing large volumes of data. The data converter outputs a HDF5 file which contains both the time series data from each meter as well as all relevant metadata.\n",
    "\n",
    "An important feature on NILMTK is that once the data is imported, the labels are standardized acrooss different datasets. This is advantageous because different dataset use different labels for the same appliance."
   ]
  },
  {
   "cell_type": "markdown",
   "metadata": {},
   "source": [
    "**Code for data conversion to HD5 format:**"
   ]
  },
  {
   "cell_type": "markdown",
   "metadata": {},
   "source": [
    "REDD data is gathered across two frequencies 1 Hz and 15 kHz "
   ]
  },
  {
   "cell_type": "code",
   "execution_count": 61,
   "metadata": {
    "collapsed": false
   },
   "outputs": [],
   "source": [
    "import nilmtk\n",
    "import sip"
   ]
  },
  {
   "cell_type": "markdown",
   "metadata": {},
   "source": [
    "The following code is for converting REDD data to hd5 format. "
   ]
  },
  {
   "cell_type": "code",
   "execution_count": 77,
   "metadata": {
    "collapsed": false
   },
   "outputs": [],
   "source": [
    "#from nilmtk.dataset_converters import convert_redd\n",
    "#convert_redd('C:\\Users\\Pranav\\Desktop\\Course material\\Fall 16\\Practical Data Science\\Project\\low_freq', 'C:\\Users\\Pranav\\Desktop\\Course material\\Fall 16\\Practical Data Science\\Project/lowfreq_data')"
   ]
  },
  {
   "cell_type": "markdown",
   "metadata": {},
   "source": [
    "NILMTK doesn't load the data by default to conserve memory. The following piece of code is for loading the data."
   ]
  },
  {
   "cell_type": "code",
   "execution_count": 62,
   "metadata": {
    "collapsed": true
   },
   "outputs": [],
   "source": [
    "from nilmtk.utils import print_dict\n",
    "from nilmtk import DataSet\n",
    "redd = DataSet('C:\\Users\\Pranav\\Desktop\\Course material\\Fall 16\\Practical Data Science\\Project/lowfreq_data')"
   ]
  },
  {
   "cell_type": "markdown",
   "metadata": {},
   "source": [
    "This REDD data consists of 6 houses. These are represented here by object 'building'"
   ]
  },
  {
   "cell_type": "code",
   "execution_count": 63,
   "metadata": {
    "collapsed": false
   },
   "outputs": [
    {
     "data": {
      "text/html": [
       "<ul><li><strong>1</strong>: Building(instance=1, dataset='REDD')</li><li><strong>2</strong>: Building(instance=2, dataset='REDD')</li><li><strong>3</strong>: Building(instance=3, dataset='REDD')</li><li><strong>4</strong>: Building(instance=4, dataset='REDD')</li><li><strong>5</strong>: Building(instance=5, dataset='REDD')</li><li><strong>6</strong>: Building(instance=6, dataset='REDD')</li></ul>"
      ],
      "text/plain": [
       "<IPython.core.display.HTML object>"
      ]
     },
     "metadata": {},
     "output_type": "display_data"
    }
   ],
   "source": [
    "print_dict(redd.buildings)"
   ]
  },
  {
   "cell_type": "code",
   "execution_count": 64,
   "metadata": {
    "collapsed": false
   },
   "outputs": [
    {
     "data": {
      "text/html": [
       "<ul><li><strong>instance</strong>: 1</li><li><strong>dataset</strong>: REDD</li><li><strong>original_name</strong>: house_1</li></ul>"
      ],
      "text/plain": [
       "<IPython.core.display.HTML object>"
      ]
     },
     "metadata": {},
     "output_type": "display_data"
    }
   ],
   "source": [
    "print_dict(redd.buildings[1].metadata)"
   ]
  },
  {
   "cell_type": "markdown",
   "metadata": {},
   "source": [
    "The 'elec' object is created to represent the electricty consumption of the 'building' object. Here, low frequency data (1Hz) is being imported and displayed."
   ]
  },
  {
   "cell_type": "code",
   "execution_count": 65,
   "metadata": {
    "collapsed": false
   },
   "outputs": [
    {
     "name": "stdout",
     "output_type": "stream",
     "text": [
      "MeterGroup(meters=\n",
      "  ElecMeter(instance=1, building=1, dataset='REDD', site_meter, appliances=[])\n",
      "  ElecMeter(instance=2, building=1, dataset='REDD', site_meter, appliances=[])\n",
      "  ElecMeter(instance=5, building=1, dataset='REDD', appliances=[Appliance(type='fridge', instance=1)])\n",
      "  ElecMeter(instance=6, building=1, dataset='REDD', appliances=[Appliance(type='dish washer', instance=1)])\n",
      "  ElecMeter(instance=7, building=1, dataset='REDD', appliances=[Appliance(type='sockets', instance=1)])\n",
      "  ElecMeter(instance=8, building=1, dataset='REDD', appliances=[Appliance(type='sockets', instance=2)])\n",
      "  ElecMeter(instance=9, building=1, dataset='REDD', appliances=[Appliance(type='light', instance=1)])\n",
      "  ElecMeter(instance=11, building=1, dataset='REDD', appliances=[Appliance(type='microwave', instance=1)])\n",
      "  ElecMeter(instance=12, building=1, dataset='REDD', appliances=[Appliance(type='unknown', instance=1)])\n",
      "  ElecMeter(instance=13, building=1, dataset='REDD', appliances=[Appliance(type='electric space heater', instance=1)])\n",
      "  ElecMeter(instance=14, building=1, dataset='REDD', appliances=[Appliance(type='electric stove', instance=1)])\n",
      "  ElecMeter(instance=15, building=1, dataset='REDD', appliances=[Appliance(type='sockets', instance=3)])\n",
      "  ElecMeter(instance=16, building=1, dataset='REDD', appliances=[Appliance(type='sockets', instance=4)])\n",
      "  ElecMeter(instance=17, building=1, dataset='REDD', appliances=[Appliance(type='light', instance=2)])\n",
      "  ElecMeter(instance=18, building=1, dataset='REDD', appliances=[Appliance(type='light', instance=3)])\n",
      "  ElecMeter(instance=19, building=1, dataset='REDD', appliances=[Appliance(type='unknown', instance=2)])\n",
      "  MeterGroup(meters=\n",
      "    ElecMeter(instance=3, building=1, dataset='REDD', appliances=[Appliance(type='electric oven', instance=1)])\n",
      "    ElecMeter(instance=4, building=1, dataset='REDD', appliances=[Appliance(type='electric oven', instance=1)])\n",
      "  )\n",
      "  MeterGroup(meters=\n",
      "    ElecMeter(instance=10, building=1, dataset='REDD', appliances=[Appliance(type='washer dryer', instance=1)])\n",
      "    ElecMeter(instance=20, building=1, dataset='REDD', appliances=[Appliance(type='washer dryer', instance=1)])\n",
      "  )\n",
      ")\n"
     ]
    }
   ],
   "source": [
    "redd = DataSet('C:\\Users\\Pranav\\Desktop\\Course material\\Fall 16\\Practical Data Science\\Project/lowfreq_data')\n",
    "elec = redd.buildings[1].elec\n",
    "print(elec)"
   ]
  },
  {
   "cell_type": "code",
   "execution_count": 66,
   "metadata": {
    "collapsed": false
   },
   "outputs": [],
   "source": [
    "from __future__ import print_function, division\n",
    "import time\n",
    "from matplotlib import rcParams\n",
    "import matplotlib.pyplot as plt\n",
    "%matplotlib inline\n",
    "rcParams['figure.figsize'] = (13, 6)\n",
    "plt.style.use('ggplot')\n",
    "\n",
    "from nilmtk import DataSet, TimeFrame, MeterGroup, HDFDataStore"
   ]
  },
  {
   "cell_type": "code",
   "execution_count": 67,
   "metadata": {
    "collapsed": true
   },
   "outputs": [],
   "source": [
    "train = DataSet('C:\\Users\\Pranav\\Desktop\\Course material\\Fall 16\\Practical Data Science\\Project/lowfreq_data')\n",
    "test = DataSet('C:\\Users\\Pranav\\Desktop\\Course material\\Fall 16\\Practical Data Science\\Project/lowfreq_data')"
   ]
  },
  {
   "cell_type": "markdown",
   "metadata": {},
   "source": [
    "A plot for the training data is given below."
   ]
  },
  {
   "cell_type": "code",
   "execution_count": 68,
   "metadata": {
    "collapsed": false
   },
   "outputs": [
    {
     "data": {
      "text/plain": [
       "<matplotlib.axes._subplots.AxesSubplot at 0xbd29550>"
      ]
     },
     "execution_count": 68,
     "metadata": {},
     "output_type": "execute_result"
    },
    {
     "data": {
      "image/png": "[encoded data removed]",
      "text/plain": [
       "<matplotlib.figure.Figure at 0x12208908>"
      ]
     },
     "metadata": {},
     "output_type": "display_data"
    }
   ],
   "source": [
    "building = 1\n",
    "train.buildings[building].elec.mains().plot()"
   ]
  },
  {
   "cell_type": "markdown",
   "metadata": {},
   "source": [
    "The following plot is for the training data of iawe. (building 1)"
   ]
  },
  {
   "cell_type": "markdown",
   "metadata": {
    "collapsed": false
   },
   "source": [
    "<img src = \"iawe_training.png\">"
   ]
  },
  {
   "cell_type": "markdown",
   "metadata": {},
   "source": [
    "<img src = \"C:\\Users\\Pranav\\Desktop\\Course material\\Fall 16\\Practical Data Science\\Project/iawe_training.png\">"
   ]
  },
  {
   "cell_type": "code",
   "execution_count": 69,
   "metadata": {
    "collapsed": false
   },
   "outputs": [
    {
     "data": {
      "text/plain": [
       "MeterGroup(meters=\n",
       "  ElecMeter(instance=1, building=1, dataset='REDD', site_meter, appliances=[])\n",
       "  ElecMeter(instance=2, building=1, dataset='REDD', site_meter, appliances=[])\n",
       ")"
      ]
     },
     "execution_count": 69,
     "metadata": {},
     "output_type": "execute_result"
    }
   ],
   "source": [
    "train.set_window(end=\"30-4-2011\")\n",
    "test.set_window(start=\"30-4-2011\")\n",
    "train_elec = train.buildings[building].elec\n",
    "test_elec = test.buildings[building].elec\n",
    "train_elec.mains()\n",
    "test_elec.mains()"
   ]
  },
  {
   "cell_type": "markdown",
   "metadata": {},
   "source": [
    "Top five power conusming devices are identified and used for training disaggregarion algorithms. The sample period is downsized to 60 seconds."
   ]
  },
  {
   "cell_type": "code",
   "execution_count": 70,
   "metadata": {
    "collapsed": false
   },
   "outputs": [
    {
     "name": "stdout",
     "output_type": "stream",
     "text": [
      "15/16 MeterGroup(meters=\n",
      "  ElecMeter(instance=3, building=1, dataset='REDD', appliances=[Appliance(type='electric oven', instance=1)])\n",
      "  ElecMeter(instance=4, building=1, dataset='REDD', appliances=[Appliance(type='electric oven', instance=1)])\n",
      "16/16 MeterGroup(meters=\n",
      "  ElecMeter(instance=10, building=1, dataset='REDD', appliances=[Appliance(type='washer dryer', instance=1)])\n",
      "  ElecMeter(instance=20, building=1, dataset='REDD', appliances=[Appliance(type='washer dryer', instance=1)])\n",
      "Calculating total_energy for ElecMeterID(instance=20, building=1, dataset='REDD') ...   "
     ]
    }
   ],
   "source": [
    "top_5_train_elec = train_elec.submeters().select_top_k(k=5)"
   ]
  },
  {
   "cell_type": "markdown",
   "metadata": {},
   "source": [
    "## Training and Disaggregation of data\n",
    "\n",
    "NILMTK currently supports execution of two disaggregation algorithms:\n",
    "1. Comninatorial optimization\n",
    "2. FHMM(Factorial Harmonic Markov Model)"
   ]
  },
  {
   "cell_type": "code",
   "execution_count": 53,
   "metadata": {
    "collapsed": false
   },
   "outputs": [
    {
     "name": "stdout",
     "output_type": "stream",
     "text": [
      "Training model for submeter 'ElecMeter(instance=5, building=1, dataset='REDD', appliances=[Appliance(type='fridge', instance=1)])'\n",
      "Training model for submeter 'ElecMeter(instance=11, building=1, dataset='REDD', appliances=[Appliance(type='microwave', instance=1)])'\n",
      "Training model for submeter 'ElecMeter(instance=8, building=1, dataset='REDD', appliances=[Appliance(type='sockets', instance=2)])'\n",
      "Training model for submeter 'ElecMeter(instance=9, building=1, dataset='REDD', appliances=[Appliance(type='light', instance=1)])'\n",
      "Training model for submeter 'ElecMeter(instance=6, building=1, dataset='REDD', appliances=[Appliance(type='dish washer', instance=1)])'\n",
      "Runtime = 20.0430002213 seconds.\n"
     ]
    }
   ],
   "source": [
    "from nilmtk.disaggregate import fhmm_exact\n",
    "from nilmtk import TimeFrame, MeterGroup, HDFDataStore\n",
    "import time\n",
    "start = time.time()\n",
    "fhmm = fhmm_exact.FHMM()\n",
    "fhmm.train(top_5_train_elec, sample_period=60)\n",
    "end = time.time()\n",
    "print(\"Runtime =\", end-start, \"seconds.\")"
   ]
  },
  {
   "cell_type": "markdown",
   "metadata": {},
   "source": [
    "The following code makes a file for the disaggregated data."
   ]
  },
  {
   "cell_type": "code",
   "execution_count": 79,
   "metadata": {
    "collapsed": false
   },
   "outputs": [],
   "source": [
    "#disag_filename = ('C:\\Users\\Pranav\\Desktop\\Course material\\Fall 16\\Practical Data Science\\Project/redd-disag-fhmm.h5')\n",
    "#output = HDFDataStore(disag_filename, 'w')\n",
    "#fhmm.disaggregate(test_elec.mains(), output, sample_period=60)\n",
    "#output.close()"
   ]
  },
  {
   "cell_type": "markdown",
   "metadata": {},
   "source": [
    "The back-end code for the following piece has a bug, which we're trying to fix."
   ]
  },
  {
   "cell_type": "code",
   "execution_count": 80,
   "metadata": {
    "collapsed": false
   },
   "outputs": [],
   "source": [
    "#disag_fhmm = DataSet(disag_filename)\n",
    "#disag_fhmm_elec = disag_fhmm.buildings[building].elec"
   ]
  },
  {
   "cell_type": "markdown",
   "metadata": {},
   "source": [
    "The following code is supposed to plot the f-score for FHMM for the top 5 energy consiming appliances.\n",
    "F-score is the harmonic mean of precision and recall.\n",
    "Precision being the fraction of time slices in which an appliance was correctly predicted to be on that it was actually off.\n",
    "Recall is the fraction of time slices in which the appliance was correctly predicted to be on that it was actually on. "
   ]
  },
  {
   "cell_type": "code",
   "execution_count": 82,
   "metadata": {
    "collapsed": false
   },
   "outputs": [],
   "source": [
    "#from nilmtk.metrics import f1_score\n",
    "#f1_fhmm = f1_score(disag_fhmm_elec, test_elec)\n",
    "#f1_fhmm.index = disag_fhmm_elec.get_labels(f1_fhmm.index)\n",
    "#f1_fhmm.plot(kind='barv')\n",
    "#plt.ylabel('appliance');\n",
    "#plt.xlabel('f-score');\n",
    "#plt.title(\"FHMM\");"
   ]
  },
  {
   "cell_type": "markdown",
   "metadata": {
    "collapsed": true
   },
   "source": [
    "# FUTURE WORK\n",
    "\n",
    "We plan to carry out one or more of the following tasks, depending on feedback and time constraints:\n",
    "\n",
    "1. To develop and execute the NILMTK process pipeline on PLAID(Plug-Load Appliance Identification dataset). Currently NILMTK does not have a data converter package to work on PLAID.\n",
    "\n",
    "2. To incorporate a new classification algorithm(naive bayes/SVM/decision tree/adaptive boosting) into NILMTK with the help of scikit learn and charactorize the performance based on various accuracy metrics such as Error in total energy,Normalised error, Confusion matrix, True/False positive rate, F-score or Hamming loss.\n",
    "\n",
    "3. To apply a disaggregation algorithm to identify a particular chosen appliance/device signature, and carry out hypothesis testing to use it as an accuracy metric for comparison across various datasets.\n",
    "\n",
    "\n"
   ]
  },
  {
   "cell_type": "code",
   "execution_count": null,
   "metadata": {
    "collapsed": true
   },
   "outputs": [],
   "source": []
  }
 ],
 "metadata": {
  "anaconda-cloud": {},
  "kernelspec": {
   "display_name": "Python [snakes]",
   "language": "python",
   "name": "Python [snakes]"
  },
  "language_info": {
   "codemirror_mode": {
    "name": "ipython",
    "version": 2
   },
   "file_extension": ".py",
   "mimetype": "text/x-python",
   "name": "python",
   "nbconvert_exporter": "python",
   "pygments_lexer": "ipython2",
   "version": "2.7.12"
  }
 },
 "nbformat": 4,
 "nbformat_minor": 0
}
