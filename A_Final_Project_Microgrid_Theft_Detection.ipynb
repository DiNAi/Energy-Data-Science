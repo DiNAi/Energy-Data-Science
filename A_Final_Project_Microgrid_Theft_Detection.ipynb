{
 "cells": [
  {
   "cell_type": "markdown",
   "metadata": {},
   "source": [
    "# Theft Detection using meter data for Microgrid in Haiti"
   ]
  },
  {
   "cell_type": "markdown",
   "metadata": {},
   "source": [
    "Our project involves working with 15 minute resolution consumption data for a microgrid in Haiti. This microgrid is owned & operated by EarthSpark International[1] (an NGO based out of DC) and the metering infrastructure is provided by SparkMeter[2] who provides the base AMI as well as cloud services like data storage, meter control, automatic billing and grid performance analysis.\n",
    "\n",
    "**Collaborators:** \n",
    "\n",
    "For this project we are collaborating with *SparkMeter*, a meter manufacturing company based out of Washington DC, who are providing us with the aforementioned consumption data as well as some insights into the mechanisms by which electricity theft occurs in developing regions like Haiti.\n",
    "\n",
    "**Representatives from SparkMeter:**\n",
    "1. Arthur Jacquiau Chamski (VP of Products)\n",
    "2. Dan Schnitzer (CEO)\n",
    "\n",
    "**Problem in brief:**\n",
    "\n",
    "The microgrid in Haiti experiences theft owing to the low income demographic in the region. We aim to analyse the data in order to detect theft or non-technical loss and pin point on the theft offenders. \n",
    "\n",
    "We have utilized two different approches to detect theft or non technical loss:\n",
    "\n",
    "1. Using correlation analysis\n",
    "2. Using clustering methods\n",
    "\n",
    "We've given below a step by step walkthrough of the process we used in the two approaches and what conclusions we could draw from the same. "
   ]
  },
  {
   "cell_type": "markdown",
   "metadata": {},
   "source": [
    "##  Initial setup"
   ]
  },
  {
   "cell_type": "markdown",
   "metadata": {},
   "source": [
    "In few cells below we load the required modules, load the file with the data that encapsulates the the technical and non technical loss for each timestamp along with some other information about the state of the microgrid in that timestamp. "
   ]
  },
  {
   "cell_type": "markdown",
   "metadata": {},
   "source": [
    "### Loading required modules"
   ]
  },
  {
   "cell_type": "code",
   "execution_count": 1,
   "metadata": {
    "collapsed": true
   },
   "outputs": [],
   "source": [
    "import pandas as pd\n",
    "import numpy as np\n",
    "from scipy import stats\n",
    "import datetime as dt\n",
    "import matplotlib.pyplot as plt\n",
    "import matplotlib.dates as mdates\n",
    "from collections import Counter\n",
    "%matplotlib inline"
   ]
  },
  {
   "cell_type": "markdown",
   "metadata": {},
   "source": [
    "### Common data load"
   ]
  },
  {
   "cell_type": "code",
   "execution_count": 2,
   "metadata": {
    "collapsed": false
   },
   "outputs": [
    {
     "data": {
      "text/html": [
       "<div>\n",
       "<table border=\"1\" class=\"dataframe\">\n",
       "  <thead>\n",
       "    <tr style=\"text-align: right;\">\n",
       "      <th></th>\n",
       "      <th>heartbeat_end</th>\n",
       "      <th>day</th>\n",
       "      <th>subnet</th>\n",
       "      <th>num_cust</th>\n",
       "      <th>kwh_cust</th>\n",
       "      <th>w_avg_cust</th>\n",
       "      <th>cost</th>\n",
       "      <th>num_cust_off</th>\n",
       "      <th>num_tot</th>\n",
       "      <th>kwh_tot</th>\n",
       "      <th>w_avg_tot</th>\n",
       "      <th>kWh_self_active</th>\n",
       "      <th>kWh_self_inactive</th>\n",
       "      <th>kwh_TL</th>\n",
       "      <th>kwh_NTL</th>\n",
       "      <th>month</th>\n",
       "      <th>period</th>\n",
       "      <th>tod</th>\n",
       "    </tr>\n",
       "  </thead>\n",
       "  <tbody>\n",
       "    <tr>\n",
       "      <th>0</th>\n",
       "      <td>2016-02-05 00:00:00</td>\n",
       "      <td>2016-02-05</td>\n",
       "      <td>BC</td>\n",
       "      <td>101.0</td>\n",
       "      <td>0.233750</td>\n",
       "      <td>830.0</td>\n",
       "      <td>13.122656</td>\n",
       "      <td>14.0</td>\n",
       "      <td>2</td>\n",
       "      <td>0.374750</td>\n",
       "      <td>1496</td>\n",
       "      <td>0.06525</td>\n",
       "      <td>0.0056</td>\n",
       "      <td>0.082537</td>\n",
       "      <td>0.058462</td>\n",
       "      <td>2</td>\n",
       "      <td>-35</td>\n",
       "      <td>night_0_7</td>\n",
       "    </tr>\n",
       "    <tr>\n",
       "      <th>1</th>\n",
       "      <td>2016-02-05 00:15:00</td>\n",
       "      <td>2016-02-05</td>\n",
       "      <td>BC</td>\n",
       "      <td>101.0</td>\n",
       "      <td>0.230719</td>\n",
       "      <td>822.0</td>\n",
       "      <td>13.310156</td>\n",
       "      <td>14.0</td>\n",
       "      <td>2</td>\n",
       "      <td>0.372375</td>\n",
       "      <td>1484</td>\n",
       "      <td>0.06525</td>\n",
       "      <td>0.0056</td>\n",
       "      <td>0.082386</td>\n",
       "      <td>0.059270</td>\n",
       "      <td>2</td>\n",
       "      <td>-35</td>\n",
       "      <td>night_0_7</td>\n",
       "    </tr>\n",
       "    <tr>\n",
       "      <th>2</th>\n",
       "      <td>2016-02-05 00:30:00</td>\n",
       "      <td>2016-02-05</td>\n",
       "      <td>BC</td>\n",
       "      <td>101.0</td>\n",
       "      <td>0.233687</td>\n",
       "      <td>832.0</td>\n",
       "      <td>13.352813</td>\n",
       "      <td>15.0</td>\n",
       "      <td>2</td>\n",
       "      <td>0.373969</td>\n",
       "      <td>1492</td>\n",
       "      <td>0.06450</td>\n",
       "      <td>0.0060</td>\n",
       "      <td>0.082184</td>\n",
       "      <td>0.058097</td>\n",
       "      <td>2</td>\n",
       "      <td>-35</td>\n",
       "      <td>night_0_7</td>\n",
       "    </tr>\n",
       "    <tr>\n",
       "      <th>3</th>\n",
       "      <td>2016-02-05 00:45:00</td>\n",
       "      <td>2016-02-05</td>\n",
       "      <td>BC</td>\n",
       "      <td>101.0</td>\n",
       "      <td>0.231687</td>\n",
       "      <td>820.0</td>\n",
       "      <td>13.248750</td>\n",
       "      <td>15.0</td>\n",
       "      <td>2</td>\n",
       "      <td>0.396719</td>\n",
       "      <td>1582</td>\n",
       "      <td>0.06450</td>\n",
       "      <td>0.0060</td>\n",
       "      <td>0.082084</td>\n",
       "      <td>0.082947</td>\n",
       "      <td>2</td>\n",
       "      <td>-35</td>\n",
       "      <td>night_0_7</td>\n",
       "    </tr>\n",
       "    <tr>\n",
       "      <th>4</th>\n",
       "      <td>2016-02-05 01:00:00</td>\n",
       "      <td>2016-02-05</td>\n",
       "      <td>BC</td>\n",
       "      <td>101.0</td>\n",
       "      <td>0.245031</td>\n",
       "      <td>882.0</td>\n",
       "      <td>13.976719</td>\n",
       "      <td>15.0</td>\n",
       "      <td>2</td>\n",
       "      <td>0.422438</td>\n",
       "      <td>1684</td>\n",
       "      <td>0.06450</td>\n",
       "      <td>0.0060</td>\n",
       "      <td>0.082752</td>\n",
       "      <td>0.094655</td>\n",
       "      <td>2</td>\n",
       "      <td>-35</td>\n",
       "      <td>night_0_7</td>\n",
       "    </tr>\n",
       "  </tbody>\n",
       "</table>\n",
       "</div>"
      ],
      "text/plain": [
       "        heartbeat_end         day subnet  num_cust  kwh_cust  w_avg_cust  \\\n",
       "0 2016-02-05 00:00:00  2016-02-05     BC     101.0  0.233750       830.0   \n",
       "1 2016-02-05 00:15:00  2016-02-05     BC     101.0  0.230719       822.0   \n",
       "2 2016-02-05 00:30:00  2016-02-05     BC     101.0  0.233687       832.0   \n",
       "3 2016-02-05 00:45:00  2016-02-05     BC     101.0  0.231687       820.0   \n",
       "4 2016-02-05 01:00:00  2016-02-05     BC     101.0  0.245031       882.0   \n",
       "\n",
       "        cost  num_cust_off  num_tot   kwh_tot  w_avg_tot  kWh_self_active  \\\n",
       "0  13.122656          14.0        2  0.374750       1496          0.06525   \n",
       "1  13.310156          14.0        2  0.372375       1484          0.06525   \n",
       "2  13.352813          15.0        2  0.373969       1492          0.06450   \n",
       "3  13.248750          15.0        2  0.396719       1582          0.06450   \n",
       "4  13.976719          15.0        2  0.422438       1684          0.06450   \n",
       "\n",
       "   kWh_self_inactive    kwh_TL   kwh_NTL  month  period        tod  \n",
       "0             0.0056  0.082537  0.058462      2     -35  night_0_7  \n",
       "1             0.0056  0.082386  0.059270      2     -35  night_0_7  \n",
       "2             0.0060  0.082184  0.058097      2     -35  night_0_7  \n",
       "3             0.0060  0.082084  0.082947      2     -35  night_0_7  \n",
       "4             0.0060  0.082752  0.094655      2     -35  night_0_7  "
      ]
     },
     "execution_count": 2,
     "metadata": {},
     "output_type": "execute_result"
    }
   ],
   "source": [
    "losses = pd.read_csv(\"LA_losses.csv\", parse_dates =['heartbeat_end'])\n",
    "losses_bc = losses[losses.subnet =='BC']\n",
    "losses_bc = losses_bc.assign(day = losses_bc['heartbeat_end'].dt.date)\n",
    "losses_bc.head(5)"
   ]
  },
  {
   "cell_type": "markdown",
   "metadata": {},
   "source": [
    "Important to note here that 4 time of day categories have been defined:\n",
    "\n",
    "1. night : 12AM (Midnight) to 7AM\n",
    "2. daytime: 7AM to 12PM (Noon)\n",
    "3. afternoon: 12PM (Noon) to 5PM\n",
    "4. evening: 5PM to 12AM (Midnight)"
   ]
  },
  {
   "cell_type": "markdown",
   "metadata": {},
   "source": [
    "### Plotter function"
   ]
  },
  {
   "cell_type": "markdown",
   "metadata": {},
   "source": [
    "Defined below is a helper function to plot the load profile and correaltion matrix of the main indicators and the suspect meters for a certain period. This plotter function is common to both the approaches described below."
   ]
  },
  {
   "cell_type": "code",
   "execution_count": 3,
   "metadata": {
    "collapsed": true
   },
   "outputs": [],
   "source": [
    "def plot_period(df,book,day,pd=None,MM=['kwh_tot','kwh_cust','kwh_NTL'],meters=None):\n",
    "    \n",
    "    pds = ['night_0_7','daytime_7_12','afternoon_12_17','evening_17_0'];\n",
    "    \n",
    "    if pd is None:\n",
    "        if meters is None:\n",
    "            meters = [i[0] for i in book[day].most_common(11)[1:]]\n",
    "        idx = df.index[df['day']==dt.datetime.strptime(day, '%Y-%m-%d')]\n",
    "    else:\n",
    "        if meters is None:\n",
    "            try:\n",
    "                meters = [i[0] for i in book[day+' '+pds[pd]].most_common(12)[1:]]\n",
    "            except KeyError:\n",
    "                print 'There was no significant non-technical losses reported on '+day+' '+pds[pd]\n",
    "                return\n",
    "        \n",
    "        idx = df.index[(df['day']==dt.datetime.strptime(day,'%Y-%m-%d')) & (df['tod']==pds[pd])]\n",
    "    \n",
    "    ax = plt.gca()\n",
    "    ax2 = ax.twinx()\n",
    "    ax.set_prop_cycle('color', ['black', (0.8862745098, 0.2901960784, 0.2),(0.572549019, 0.776470588, 1.0)])\n",
    "    X = df.loc[idx,MM].values; X = (X - np.mean(X,axis=0))/(np.std(X,axis=0)+1e-4)\n",
    "    ax.plot(df.loc[idx,'heartbeat_end'].dt.time,X,linewidth=3);\n",
    "    X = df.loc[idx,meters].values; X = (X - np.mean(X,axis=0))/(np.std(X,axis=0)+1e-4)\n",
    "    ax2.plot(df.loc[idx,'heartbeat_end'].dt.time,X);  \n",
    "\n",
    "    labels = ax.get_xticklabels(); plt.setp(labels,rotation='vertical')\n",
    "    ax.grid(True); ax.set_title(day+' '+pds[pd])\n",
    "    ax.legend(MM, loc='center left', bbox_to_anchor=(1.2, 1))\n",
    "    ax2.legend(meters, loc='center left', bbox_to_anchor=(1.2, 0.3))\n",
    "    temp = df.loc[idx,MM+meters].copy()\n",
    "    print 'Correlation matrix:'\n",
    "    print temp.corr(method='pearson').iloc[3:,:3]\n",
    "    \n",
    "    pass"
   ]
  },
  {
   "cell_type": "markdown",
   "metadata": {},
   "source": [
    "## Approach 1: Using Correlation Analysis"
   ]
  },
  {
   "cell_type": "markdown",
   "metadata": {},
   "source": [
    "### Loading the data\n",
    "The Detailed consumption file provides the consumption per customer at the end of a given heartbeat for each subnet. Our first task is to load the two files for detailed consumption and for the losses. We will only foucs on the BC subnet within the dataset. In this segment we noticed that both files have data from the same region but one of the files has a time offset. We take care of this by utilizing the parse dates method while reading the file which will include the time zone information."
   ]
  },
  {
   "cell_type": "code",
   "execution_count": 4,
   "metadata": {
    "collapsed": false
   },
   "outputs": [
    {
     "data": {
      "text/html": [
       "<div>\n",
       "<table border=\"1\" class=\"dataframe\">\n",
       "  <thead>\n",
       "    <tr style=\"text-align: right;\">\n",
       "      <th></th>\n",
       "      <th>serial</th>\n",
       "      <th>heartbeat_end</th>\n",
       "      <th>subnet</th>\n",
       "      <th>kilowatt_hours</th>\n",
       "      <th>true_power_avg</th>\n",
       "    </tr>\n",
       "  </thead>\n",
       "  <tbody>\n",
       "    <tr>\n",
       "      <th>0</th>\n",
       "      <td>SM15R-01-0000028A</td>\n",
       "      <td>2016-04-27 19:30:00</td>\n",
       "      <td>BC</td>\n",
       "      <td>0.000156</td>\n",
       "      <td>0</td>\n",
       "    </tr>\n",
       "    <tr>\n",
       "      <th>1</th>\n",
       "      <td>SM15R-01-00000290</td>\n",
       "      <td>2016-04-27 19:30:00</td>\n",
       "      <td>BC</td>\n",
       "      <td>0.000000</td>\n",
       "      <td>0</td>\n",
       "    </tr>\n",
       "    <tr>\n",
       "      <th>2</th>\n",
       "      <td>SM15R-01-00000273</td>\n",
       "      <td>2016-04-27 19:30:00</td>\n",
       "      <td>BC</td>\n",
       "      <td>0.000281</td>\n",
       "      <td>0</td>\n",
       "    </tr>\n",
       "    <tr>\n",
       "      <th>3</th>\n",
       "      <td>SM15R-01-0000026C</td>\n",
       "      <td>2016-04-27 19:30:00</td>\n",
       "      <td>BC</td>\n",
       "      <td>0.000812</td>\n",
       "      <td>2</td>\n",
       "    </tr>\n",
       "    <tr>\n",
       "      <th>4</th>\n",
       "      <td>SM15R-01-00000184</td>\n",
       "      <td>2016-04-27 19:30:00</td>\n",
       "      <td>BC</td>\n",
       "      <td>0.000937</td>\n",
       "      <td>2</td>\n",
       "    </tr>\n",
       "  </tbody>\n",
       "</table>\n",
       "</div>"
      ],
      "text/plain": [
       "              serial       heartbeat_end subnet  kilowatt_hours  \\\n",
       "0  SM15R-01-0000028A 2016-04-27 19:30:00     BC        0.000156   \n",
       "1  SM15R-01-00000290 2016-04-27 19:30:00     BC        0.000000   \n",
       "2  SM15R-01-00000273 2016-04-27 19:30:00     BC        0.000281   \n",
       "3  SM15R-01-0000026C 2016-04-27 19:30:00     BC        0.000812   \n",
       "4  SM15R-01-00000184 2016-04-27 19:30:00     BC        0.000937   \n",
       "\n",
       "   true_power_avg  \n",
       "0               0  \n",
       "1               0  \n",
       "2               0  \n",
       "3               2  \n",
       "4               2  "
      ]
     },
     "execution_count": 4,
     "metadata": {},
     "output_type": "execute_result"
    }
   ],
   "source": [
    "detailed_consumption = pd.read_csv(\"LA_detailed_consumption.csv\", parse_dates =['heartbeat_end'])\n",
    "detailed_bc = detailed_consumption[detailed_consumption.subnet == 'BC']\n",
    "detailed_bc.reset_index(inplace = True, drop = True)\n",
    "detailed_bc.head(5)"
   ]
  },
  {
   "cell_type": "markdown",
   "metadata": {},
   "source": [
    "Below, we merge the two loaded files based on the timestamp"
   ]
  },
  {
   "cell_type": "code",
   "execution_count": 5,
   "metadata": {
    "collapsed": false
   },
   "outputs": [
    {
     "name": "stdout",
     "output_type": "stream",
     "text": [
      "dataset size: 737576\n"
     ]
    },
    {
     "data": {
      "text/html": [
       "<div>\n",
       "<table border=\"1\" class=\"dataframe\">\n",
       "  <thead>\n",
       "    <tr style=\"text-align: right;\">\n",
       "      <th></th>\n",
       "      <th>serial</th>\n",
       "      <th>heartbeat_end</th>\n",
       "      <th>subnet_x</th>\n",
       "      <th>kilowatt_hours</th>\n",
       "      <th>true_power_avg</th>\n",
       "      <th>day</th>\n",
       "      <th>subnet_y</th>\n",
       "      <th>num_cust</th>\n",
       "      <th>kwh_cust</th>\n",
       "      <th>w_avg_cust</th>\n",
       "      <th>...</th>\n",
       "      <th>num_tot</th>\n",
       "      <th>kwh_tot</th>\n",
       "      <th>w_avg_tot</th>\n",
       "      <th>kWh_self_active</th>\n",
       "      <th>kWh_self_inactive</th>\n",
       "      <th>kwh_TL</th>\n",
       "      <th>kwh_NTL</th>\n",
       "      <th>month</th>\n",
       "      <th>period</th>\n",
       "      <th>tod</th>\n",
       "    </tr>\n",
       "  </thead>\n",
       "  <tbody>\n",
       "    <tr>\n",
       "      <th>0</th>\n",
       "      <td>SM15R-01-0000028A</td>\n",
       "      <td>2016-04-27 19:30:00</td>\n",
       "      <td>BC</td>\n",
       "      <td>0.000156</td>\n",
       "      <td>0</td>\n",
       "      <td>2016-04-27</td>\n",
       "      <td>BC</td>\n",
       "      <td>102.0</td>\n",
       "      <td>0.145125</td>\n",
       "      <td>524.0</td>\n",
       "      <td>...</td>\n",
       "      <td>2</td>\n",
       "      <td>0.292656</td>\n",
       "      <td>1168</td>\n",
       "      <td>0.06225</td>\n",
       "      <td>0.0076</td>\n",
       "      <td>0.077106</td>\n",
       "      <td>0.070425</td>\n",
       "      <td>4</td>\n",
       "      <td>-23</td>\n",
       "      <td>afternoon_12_17</td>\n",
       "    </tr>\n",
       "    <tr>\n",
       "      <th>2</th>\n",
       "      <td>SM15R-01-00000273</td>\n",
       "      <td>2016-04-27 19:30:00</td>\n",
       "      <td>BC</td>\n",
       "      <td>0.000281</td>\n",
       "      <td>0</td>\n",
       "      <td>2016-04-27</td>\n",
       "      <td>BC</td>\n",
       "      <td>102.0</td>\n",
       "      <td>0.145125</td>\n",
       "      <td>524.0</td>\n",
       "      <td>...</td>\n",
       "      <td>2</td>\n",
       "      <td>0.292656</td>\n",
       "      <td>1168</td>\n",
       "      <td>0.06225</td>\n",
       "      <td>0.0076</td>\n",
       "      <td>0.077106</td>\n",
       "      <td>0.070425</td>\n",
       "      <td>4</td>\n",
       "      <td>-23</td>\n",
       "      <td>afternoon_12_17</td>\n",
       "    </tr>\n",
       "    <tr>\n",
       "      <th>3</th>\n",
       "      <td>SM15R-01-0000026C</td>\n",
       "      <td>2016-04-27 19:30:00</td>\n",
       "      <td>BC</td>\n",
       "      <td>0.000812</td>\n",
       "      <td>2</td>\n",
       "      <td>2016-04-27</td>\n",
       "      <td>BC</td>\n",
       "      <td>102.0</td>\n",
       "      <td>0.145125</td>\n",
       "      <td>524.0</td>\n",
       "      <td>...</td>\n",
       "      <td>2</td>\n",
       "      <td>0.292656</td>\n",
       "      <td>1168</td>\n",
       "      <td>0.06225</td>\n",
       "      <td>0.0076</td>\n",
       "      <td>0.077106</td>\n",
       "      <td>0.070425</td>\n",
       "      <td>4</td>\n",
       "      <td>-23</td>\n",
       "      <td>afternoon_12_17</td>\n",
       "    </tr>\n",
       "    <tr>\n",
       "      <th>4</th>\n",
       "      <td>SM15R-01-00000184</td>\n",
       "      <td>2016-04-27 19:30:00</td>\n",
       "      <td>BC</td>\n",
       "      <td>0.000937</td>\n",
       "      <td>2</td>\n",
       "      <td>2016-04-27</td>\n",
       "      <td>BC</td>\n",
       "      <td>102.0</td>\n",
       "      <td>0.145125</td>\n",
       "      <td>524.0</td>\n",
       "      <td>...</td>\n",
       "      <td>2</td>\n",
       "      <td>0.292656</td>\n",
       "      <td>1168</td>\n",
       "      <td>0.06225</td>\n",
       "      <td>0.0076</td>\n",
       "      <td>0.077106</td>\n",
       "      <td>0.070425</td>\n",
       "      <td>4</td>\n",
       "      <td>-23</td>\n",
       "      <td>afternoon_12_17</td>\n",
       "    </tr>\n",
       "    <tr>\n",
       "      <th>7</th>\n",
       "      <td>SM15R-01-00000200</td>\n",
       "      <td>2016-04-27 19:30:00</td>\n",
       "      <td>BC</td>\n",
       "      <td>0.000344</td>\n",
       "      <td>0</td>\n",
       "      <td>2016-04-27</td>\n",
       "      <td>BC</td>\n",
       "      <td>102.0</td>\n",
       "      <td>0.145125</td>\n",
       "      <td>524.0</td>\n",
       "      <td>...</td>\n",
       "      <td>2</td>\n",
       "      <td>0.292656</td>\n",
       "      <td>1168</td>\n",
       "      <td>0.06225</td>\n",
       "      <td>0.0076</td>\n",
       "      <td>0.077106</td>\n",
       "      <td>0.070425</td>\n",
       "      <td>4</td>\n",
       "      <td>-23</td>\n",
       "      <td>afternoon_12_17</td>\n",
       "    </tr>\n",
       "  </tbody>\n",
       "</table>\n",
       "<p>5 rows × 22 columns</p>\n",
       "</div>"
      ],
      "text/plain": [
       "              serial       heartbeat_end subnet_x  kilowatt_hours  \\\n",
       "0  SM15R-01-0000028A 2016-04-27 19:30:00       BC        0.000156   \n",
       "2  SM15R-01-00000273 2016-04-27 19:30:00       BC        0.000281   \n",
       "3  SM15R-01-0000026C 2016-04-27 19:30:00       BC        0.000812   \n",
       "4  SM15R-01-00000184 2016-04-27 19:30:00       BC        0.000937   \n",
       "7  SM15R-01-00000200 2016-04-27 19:30:00       BC        0.000344   \n",
       "\n",
       "   true_power_avg         day subnet_y  num_cust  kwh_cust  w_avg_cust  \\\n",
       "0               0  2016-04-27       BC     102.0  0.145125       524.0   \n",
       "2               0  2016-04-27       BC     102.0  0.145125       524.0   \n",
       "3               2  2016-04-27       BC     102.0  0.145125       524.0   \n",
       "4               2  2016-04-27       BC     102.0  0.145125       524.0   \n",
       "7               0  2016-04-27       BC     102.0  0.145125       524.0   \n",
       "\n",
       "        ...         num_tot   kwh_tot  w_avg_tot  kWh_self_active  \\\n",
       "0       ...               2  0.292656       1168          0.06225   \n",
       "2       ...               2  0.292656       1168          0.06225   \n",
       "3       ...               2  0.292656       1168          0.06225   \n",
       "4       ...               2  0.292656       1168          0.06225   \n",
       "7       ...               2  0.292656       1168          0.06225   \n",
       "\n",
       "   kWh_self_inactive    kwh_TL   kwh_NTL  month  period              tod  \n",
       "0             0.0076  0.077106  0.070425      4     -23  afternoon_12_17  \n",
       "2             0.0076  0.077106  0.070425      4     -23  afternoon_12_17  \n",
       "3             0.0076  0.077106  0.070425      4     -23  afternoon_12_17  \n",
       "4             0.0076  0.077106  0.070425      4     -23  afternoon_12_17  \n",
       "7             0.0076  0.077106  0.070425      4     -23  afternoon_12_17  \n",
       "\n",
       "[5 rows x 22 columns]"
      ]
     },
     "execution_count": 5,
     "metadata": {},
     "output_type": "execute_result"
    }
   ],
   "source": [
    "bc_consumption = pd.merge(detailed_bc, losses_bc, how='inner', on = 'heartbeat_end')\n",
    "bc_consumption = bc_consumption[bc_consumption.kilowatt_hours>0]\n",
    "print (\"dataset size: \" + str(len(bc_consumption)))\n",
    "bc_consumption.head(5)"
   ]
  },
  {
   "cell_type": "markdown",
   "metadata": {},
   "source": [
    "We would now like to analyze the consumption patterns of each user at a given time of day. We spit the dataset to time of day so we are able to better identify \n",
    "<ol>\n",
    "<li>\n",
    "Who are likely contenters of causing theft </li>\n",
    "<li>When does theft occur most</li>\n",
    "</ol>"
   ]
  },
  {
   "cell_type": "code",
   "execution_count": 6,
   "metadata": {
    "collapsed": true
   },
   "outputs": [],
   "source": [
    "bc_consumption.dropna(axis = 0, inplace = True)\n",
    "bc_consumption = bc_consumption[bc_consumption.heartbeat_end >= '2016-08-15']\n",
    "bc_consumption = bc_consumption[bc_consumption.heartbeat_end <= '2016-09-30']\n",
    "\n",
    "grouped_bc = bc_consumption.groupby(['day', 'serial','tod'])"
   ]
  },
  {
   "cell_type": "markdown",
   "metadata": {},
   "source": [
    "We compute the pearson correlation scores for each group i.e. the individual consumption vs the NTL loss. The idea is to find customers with frequent high negative correlations i.e. \n",
    "\n",
    "<ul>\n",
    "<li>When the NTL loss increases the customers usage decreases, implying they may be stealing at this time.</li>\n",
    "<li>When the NTL loss decreases the customers usage increases, implying the loss marginally decreases because they stopped stealing.</li>\n",
    "</ul>\n",
    "\n",
    "We make sure that we have at least 10 data points so we the method is able to compute a meaningful correlation. We only consider those cases where the p value is less that 0.05. "
   ]
  },
  {
   "cell_type": "code",
   "execution_count": 7,
   "metadata": {
    "collapsed": true
   },
   "outputs": [],
   "source": [
    "dates = []\n",
    "user = []\n",
    "score =[]\n",
    "tod =[]\n",
    "for name ,group in grouped_bc:\n",
    "    corr =  stats.spearmanr(group['kwh_NTL'], group['kilowatt_hours'])\n",
    "    if corr[1] <= 0.05 and len(group)>10:\n",
    "        dates.append(name[0])\n",
    "        user.append(name[1])\n",
    "        score.append(corr[0])\n",
    "        tod.append(name[2])"
   ]
  },
  {
   "cell_type": "markdown",
   "metadata": {},
   "source": [
    "This gives us the below set of data points"
   ]
  },
  {
   "cell_type": "code",
   "execution_count": 8,
   "metadata": {
    "collapsed": true
   },
   "outputs": [],
   "source": [
    "corr_df = pd.DataFrame(columns = ['user','date','score','tod'])\n",
    "corr_df['user'] = user\n",
    "corr_df['date'] = dates\n",
    "corr_df['score'] = score\n",
    "corr_df['tod'] = tod"
   ]
  },
  {
   "cell_type": "markdown",
   "metadata": {},
   "source": [
    "We now have the consumption patters we only consider the negative correlations. We then find the customers who have high repeated cases of negative correlations."
   ]
  },
  {
   "cell_type": "code",
   "execution_count": 9,
   "metadata": {
    "collapsed": false
   },
   "outputs": [
    {
     "data": {
      "text/plain": [
       "SM15R-01-000001F6    53\n",
       "SM15R-01-00000263    41\n",
       "SM15R-01-0000028A    38\n",
       "SM15R-01-00000260    38\n",
       "SM15R-01-00000219    35\n",
       "SM15R-01-00000191    33\n",
       "SM15R-01-000001A9    33\n",
       "SM15R-01-0000031D    33\n",
       "SM15R-01-0000010C    33\n",
       "SM15R-01-00000127    32\n",
       "SM15R-01-000000ED    32\n",
       "SM15R-01-0000020C    29\n",
       "SM15R-01-000001B1    28\n",
       "SM15R-01-000001A8    28\n",
       "SM15R-01-000000C8    27\n",
       "Name: user, dtype: int64"
      ]
     },
     "execution_count": 9,
     "metadata": {},
     "output_type": "execute_result"
    }
   ],
   "source": [
    "corr_df = corr_df.sort_values(by= ['date','score'], ascending = [True,True])\n",
    "corr_n = corr_df[corr_df.score<0]\n",
    "corr_n.user.value_counts().head(15)"
   ]
  },
  {
   "cell_type": "markdown",
   "metadata": {},
   "source": [
    "In the cell below, we segragate the correlation data based on time of day and find top 10 offender in each of the time of day categories as described above in the notebook"
   ]
  },
  {
   "cell_type": "code",
   "execution_count": 10,
   "metadata": {
    "collapsed": false
   },
   "outputs": [
    {
     "name": "stdout",
     "output_type": "stream",
     "text": [
      "Count tod\n",
      "50   afternoon_12_17\n",
      "353   daytime_7_12\n",
      "22   evening_17_0\n",
      "894   night_0_7\n",
      "\n",
      "Top 10 Offenders at  afternoon_12_17  time:\n",
      "SM15R-01-000001CE    2\n",
      "SM15R-01-00000243    2\n",
      "SM15R-01-0000031D    2\n",
      "SM15R-01-000000C8    2\n",
      "SM15R-01-000001A6    2\n",
      "SM15R-01-0000020F    2\n",
      "SM15R-01-000001B1    2\n",
      "SM15R-01-0000012D    2\n",
      "SM15R-01-0000011F    1\n",
      "SM15R-01-0000011D    1\n",
      "Name: user, dtype: int64\n",
      "\n",
      "Top 10 Offenders at  daytime_7_12  time:\n",
      "SM15R-01-000001F6    20\n",
      "SM15R-01-000001A9    16\n",
      "SM15R-01-00000263    12\n",
      "SM15R-01-0000031D    11\n",
      "SM15R-01-0000020C    10\n",
      "SM15R-01-00000191     9\n",
      "SM15R-01-0000010C     9\n",
      "SM15R-01-00000260     9\n",
      "SM15R-01-00000219     8\n",
      "SM15R-01-00000127     8\n",
      "Name: user, dtype: int64\n",
      "\n",
      "Top 10 Offenders at  evening_17_0  time:\n",
      "SM15R-01-000000C8    2\n",
      "SM15R-01-000001A9    2\n",
      "SM15R-01-0000013D    1\n",
      "SM15R-01-000001AD    1\n",
      "SM15R-01-0000026C    1\n",
      "SM15R-01-0000021C    1\n",
      "SM15R-01-000001D9    1\n",
      "SM15R-01-000000C2    1\n",
      "SM15R-01-000001A6    1\n",
      "SM15R-01-0000028A    1\n",
      "Name: user, dtype: int64\n",
      "\n",
      "Top 10 Offenders at  night_0_7  time:\n",
      "SM15R-01-0000028A    27\n",
      "SM15R-01-000001F6    27\n",
      "SM15R-01-00000219    25\n",
      "SM15R-01-00000260    23\n",
      "SM15R-01-000000ED    23\n",
      "SM15R-01-00000263    22\n",
      "SM15R-01-000001A8    21\n",
      "SM15R-01-0000010C    20\n",
      "SM15R-01-000001B1    20\n",
      "SM15R-01-00000191    18\n",
      "Name: user, dtype: int64\n"
     ]
    }
   ],
   "source": [
    "top_th = corr_n.user.value_counts()\n",
    "top5 = []\n",
    "\n",
    "for i in range(5):\n",
    "    top5.append(top_th.index[i])\n",
    "\n",
    "temp = corr_n.groupby(['tod'])    \n",
    "print \"Count\" , \"tod\"\n",
    "for name, grp in temp:\n",
    "    print len(grp) ,\" \", name\n",
    "\n",
    "for name, group in temp:\n",
    "    corr_night = corr_n[corr_n.tod == name]\n",
    "    corr_night = corr_night[corr_night.score< -0.50]\n",
    "    print \"\\nTop 10 Offenders at \",name, \" time:\"\n",
    "    print corr_night.user.value_counts()[:10]"
   ]
  },
  {
   "cell_type": "markdown",
   "metadata": {},
   "source": [
    "Below we evaluate the users who steal only during one time of day"
   ]
  },
  {
   "cell_type": "code",
   "execution_count": 11,
   "metadata": {
    "collapsed": false
   },
   "outputs": [
    {
     "data": {
      "text/html": [
       "<div>\n",
       "<table border=\"1\" class=\"dataframe\">\n",
       "  <thead>\n",
       "    <tr style=\"text-align: right;\">\n",
       "      <th></th>\n",
       "      <th>heartbeat_end</th>\n",
       "      <th>day</th>\n",
       "      <th>kwh_cust</th>\n",
       "      <th>kwh_tot</th>\n",
       "      <th>kwh_TL</th>\n",
       "      <th>kwh_NTL</th>\n",
       "      <th>tod</th>\n",
       "      <th>SM15R-01-0000004D</th>\n",
       "      <th>SM15R-01-00000054</th>\n",
       "      <th>SM15R-01-0000008A</th>\n",
       "      <th>...</th>\n",
       "      <th>SM20R-02-00000DB6</th>\n",
       "      <th>SM20R-02-00000DB8</th>\n",
       "      <th>SM20R-02-00000DB9</th>\n",
       "      <th>SM20R-02-00000DBA</th>\n",
       "      <th>SM20R-02-00000DBB</th>\n",
       "      <th>SM20R-02-00000DBE</th>\n",
       "      <th>SM20R-02-00000DBF</th>\n",
       "      <th>SM20R-02-00000DC6</th>\n",
       "      <th>SM20R-02-00000DC7</th>\n",
       "      <th>SM20R-02-00000DCE</th>\n",
       "    </tr>\n",
       "  </thead>\n",
       "  <tbody>\n",
       "    <tr>\n",
       "      <th>0</th>\n",
       "      <td>2016-02-05 00:00:00</td>\n",
       "      <td>2016-02-05</td>\n",
       "      <td>0.233750</td>\n",
       "      <td>0.374750</td>\n",
       "      <td>0.082537</td>\n",
       "      <td>0.058462</td>\n",
       "      <td>night_0_7</td>\n",
       "      <td>0.0</td>\n",
       "      <td>0.0</td>\n",
       "      <td>0.002812</td>\n",
       "      <td>...</td>\n",
       "      <td>NaN</td>\n",
       "      <td>NaN</td>\n",
       "      <td>NaN</td>\n",
       "      <td>NaN</td>\n",
       "      <td>NaN</td>\n",
       "      <td>NaN</td>\n",
       "      <td>NaN</td>\n",
       "      <td>NaN</td>\n",
       "      <td>NaN</td>\n",
       "      <td>NaN</td>\n",
       "    </tr>\n",
       "    <tr>\n",
       "      <th>1</th>\n",
       "      <td>2016-02-05 00:15:00</td>\n",
       "      <td>2016-02-05</td>\n",
       "      <td>0.230719</td>\n",
       "      <td>0.372375</td>\n",
       "      <td>0.082386</td>\n",
       "      <td>0.059270</td>\n",
       "      <td>night_0_7</td>\n",
       "      <td>0.0</td>\n",
       "      <td>0.0</td>\n",
       "      <td>0.002781</td>\n",
       "      <td>...</td>\n",
       "      <td>NaN</td>\n",
       "      <td>NaN</td>\n",
       "      <td>NaN</td>\n",
       "      <td>NaN</td>\n",
       "      <td>NaN</td>\n",
       "      <td>NaN</td>\n",
       "      <td>NaN</td>\n",
       "      <td>NaN</td>\n",
       "      <td>NaN</td>\n",
       "      <td>NaN</td>\n",
       "    </tr>\n",
       "    <tr>\n",
       "      <th>2</th>\n",
       "      <td>2016-02-05 00:30:00</td>\n",
       "      <td>2016-02-05</td>\n",
       "      <td>0.233687</td>\n",
       "      <td>0.373969</td>\n",
       "      <td>0.082184</td>\n",
       "      <td>0.058097</td>\n",
       "      <td>night_0_7</td>\n",
       "      <td>0.0</td>\n",
       "      <td>0.0</td>\n",
       "      <td>0.002969</td>\n",
       "      <td>...</td>\n",
       "      <td>NaN</td>\n",
       "      <td>NaN</td>\n",
       "      <td>NaN</td>\n",
       "      <td>NaN</td>\n",
       "      <td>NaN</td>\n",
       "      <td>NaN</td>\n",
       "      <td>NaN</td>\n",
       "      <td>NaN</td>\n",
       "      <td>NaN</td>\n",
       "      <td>NaN</td>\n",
       "    </tr>\n",
       "    <tr>\n",
       "      <th>3</th>\n",
       "      <td>2016-02-05 00:45:00</td>\n",
       "      <td>2016-02-05</td>\n",
       "      <td>0.231687</td>\n",
       "      <td>0.396719</td>\n",
       "      <td>0.082084</td>\n",
       "      <td>0.082947</td>\n",
       "      <td>night_0_7</td>\n",
       "      <td>0.0</td>\n",
       "      <td>0.0</td>\n",
       "      <td>0.002844</td>\n",
       "      <td>...</td>\n",
       "      <td>NaN</td>\n",
       "      <td>NaN</td>\n",
       "      <td>NaN</td>\n",
       "      <td>NaN</td>\n",
       "      <td>NaN</td>\n",
       "      <td>NaN</td>\n",
       "      <td>NaN</td>\n",
       "      <td>NaN</td>\n",
       "      <td>NaN</td>\n",
       "      <td>NaN</td>\n",
       "    </tr>\n",
       "    <tr>\n",
       "      <th>4</th>\n",
       "      <td>2016-02-05 01:00:00</td>\n",
       "      <td>2016-02-05</td>\n",
       "      <td>0.245031</td>\n",
       "      <td>0.422438</td>\n",
       "      <td>0.082752</td>\n",
       "      <td>0.094655</td>\n",
       "      <td>night_0_7</td>\n",
       "      <td>0.0</td>\n",
       "      <td>0.0</td>\n",
       "      <td>0.002844</td>\n",
       "      <td>...</td>\n",
       "      <td>NaN</td>\n",
       "      <td>NaN</td>\n",
       "      <td>NaN</td>\n",
       "      <td>NaN</td>\n",
       "      <td>NaN</td>\n",
       "      <td>NaN</td>\n",
       "      <td>NaN</td>\n",
       "      <td>NaN</td>\n",
       "      <td>NaN</td>\n",
       "      <td>NaN</td>\n",
       "    </tr>\n",
       "  </tbody>\n",
       "</table>\n",
       "<p>5 rows × 126 columns</p>\n",
       "</div>"
      ],
      "text/plain": [
       "        heartbeat_end         day  kwh_cust   kwh_tot    kwh_TL   kwh_NTL  \\\n",
       "0 2016-02-05 00:00:00  2016-02-05  0.233750  0.374750  0.082537  0.058462   \n",
       "1 2016-02-05 00:15:00  2016-02-05  0.230719  0.372375  0.082386  0.059270   \n",
       "2 2016-02-05 00:30:00  2016-02-05  0.233687  0.373969  0.082184  0.058097   \n",
       "3 2016-02-05 00:45:00  2016-02-05  0.231687  0.396719  0.082084  0.082947   \n",
       "4 2016-02-05 01:00:00  2016-02-05  0.245031  0.422438  0.082752  0.094655   \n",
       "\n",
       "         tod  SM15R-01-0000004D  SM15R-01-00000054  SM15R-01-0000008A  \\\n",
       "0  night_0_7                0.0                0.0           0.002812   \n",
       "1  night_0_7                0.0                0.0           0.002781   \n",
       "2  night_0_7                0.0                0.0           0.002969   \n",
       "3  night_0_7                0.0                0.0           0.002844   \n",
       "4  night_0_7                0.0                0.0           0.002844   \n",
       "\n",
       "         ...          SM20R-02-00000DB6  SM20R-02-00000DB8  SM20R-02-00000DB9  \\\n",
       "0        ...                        NaN                NaN                NaN   \n",
       "1        ...                        NaN                NaN                NaN   \n",
       "2        ...                        NaN                NaN                NaN   \n",
       "3        ...                        NaN                NaN                NaN   \n",
       "4        ...                        NaN                NaN                NaN   \n",
       "\n",
       "   SM20R-02-00000DBA  SM20R-02-00000DBB  SM20R-02-00000DBE  SM20R-02-00000DBF  \\\n",
       "0                NaN                NaN                NaN                NaN   \n",
       "1                NaN                NaN                NaN                NaN   \n",
       "2                NaN                NaN                NaN                NaN   \n",
       "3                NaN                NaN                NaN                NaN   \n",
       "4                NaN                NaN                NaN                NaN   \n",
       "\n",
       "   SM20R-02-00000DC6  SM20R-02-00000DC7  SM20R-02-00000DCE  \n",
       "0                NaN                NaN                NaN  \n",
       "1                NaN                NaN                NaN  \n",
       "2                NaN                NaN                NaN  \n",
       "3                NaN                NaN                NaN  \n",
       "4                NaN                NaN                NaN  \n",
       "\n",
       "[5 rows x 126 columns]"
      ]
     },
     "execution_count": 11,
     "metadata": {},
     "output_type": "execute_result"
    }
   ],
   "source": [
    "detailed_bc = detailed_bc.loc[detailed_bc.subnet == 'BC',:]; detailed_bc.reset_index(inplace = True, drop = True)\n",
    "detailed_bc.drop(['subnet','true_power_avg'],axis = 1, inplace = True)\n",
    "detailed_bc = detailed_bc.pivot(index='heartbeat_end',columns='serial',values='kilowatt_hours')\n",
    "detailed_bc.reset_index(inplace = True);# detailed_bc.set_index(['heartbeat_end'],inplace = True);\n",
    "detailed_bc.head()\n",
    "\n",
    "bc_consumption = pd.merge(losses_bc, detailed_bc, how='inner')\n",
    "bc_consumption.drop(['subnet','cost','kWh_self_inactive', 'num_cust','num_cust_off',\n",
    "                      'kWh_self_active','w_avg_tot','num_tot','month','w_avg_cust','period'],axis = 1, inplace = True)\n",
    "bc_consumption.sort_values('heartbeat_end', inplace=True)\n",
    "bc_consumption.head()"
   ]
  },
  {
   "cell_type": "markdown",
   "metadata": {},
   "source": [
    "Based on the list we got above, in order to visualize the theft we choose some offenders from one of the time of day categories. The meters variable below has 5 candidates from the 'night' category."
   ]
  },
  {
   "cell_type": "code",
   "execution_count": 12,
   "metadata": {
    "collapsed": true
   },
   "outputs": [],
   "source": [
    "meters =['SM15R-01-000000ED','SM15R-01-0000028A','SM15R-01-000001F6','SM15R-01-00000219','SM15R-01-00000260']"
   ]
  },
  {
   "cell_type": "markdown",
   "metadata": {},
   "source": [
    "Let us plot the non technical loss, consumption of meters for a particular day to visualize the result"
   ]
  },
  {
   "cell_type": "code",
   "execution_count": 13,
   "metadata": {
    "collapsed": false
   },
   "outputs": [
    {
     "name": "stdout",
     "output_type": "stream",
     "text": [
      "Correlation matrix:\n",
      "                    kwh_tot  kwh_cust   kwh_NTL\n",
      "SM15R-01-000000ED  0.492115  0.438251  0.098986\n",
      "SM15R-01-0000028A  0.870275  0.858391 -0.316778\n",
      "SM15R-01-000001F6  0.415482  0.338975  0.458243\n",
      "SM15R-01-00000219  0.873980  0.899702 -0.302711\n",
      "SM15R-01-00000260  0.807202  0.825869 -0.258009\n"
     ]
    },
    {
     "data": {
      "image/png": "[encoded data removed]",
      "text/plain": [
       "<matplotlib.figure.Figure at 0xeacd4e0>"
      ]
     },
     "metadata": {},
     "output_type": "display_data"
    }
   ],
   "source": [
    "bc_consumption.day = pd.to_datetime(bc_consumption.day,infer_datetime_format=True)\n",
    "plot_period(bc_consumption,None,day='2016-09-07',pd=3, meters = meters)"
   ]
  },
  {
   "cell_type": "markdown",
   "metadata": {},
   "source": [
    "## Approach 2: Using K-Means Clustering\n",
    "\n",
    "The primary challenge of this problems statement is that we lack ground truth information about the identity of the real offenders. SparkMeter has some reporting on the ground in Haiti based on which they have given us confirmation of four offending homes during the period August and September 2016. Therefore an unsupervised approach would be useful to identify suspects.\n",
    "\n",
    "Given that `kwh_cust` corresponds to the sum of readings across all meters in a zone, the load profile of each meter relative to the load profile of `kwh_cust` over a certain period might provide useful information to identify suspects. During a period when theft occurs (e.g. evenings 19:00-23:00), the similar the load profile of a meter is to the load shape of the totalizer, the higher the chances that the home corresponding to that meter is contributing to the total non technical loss.\n",
    "\n",
    "To develop this approach, we are analyzing the data of total consumption and consumption per meter on a daily basis, and creating k clusters for each period of the day (i.e. morning, daytime, evening and night) using K-means++. A matrix is set up where the columns refer to the time of the day, and the rows to all meters including the totalizer. The matrix is normalized by rows in order to capture variance of the load throughout the chosen period for each meter."
   ]
  },
  {
   "cell_type": "markdown",
   "metadata": {},
   "source": [
    "### Data load and preparation"
   ]
  },
  {
   "cell_type": "markdown",
   "metadata": {},
   "source": [
    "We load the consumption file with the 15 minute resolution data and extract only data of meters in one of the sub networks (called BC) which consists of greater than 100 meters."
   ]
  },
  {
   "cell_type": "code",
   "execution_count": 18,
   "metadata": {
    "collapsed": false
   },
   "outputs": [
    {
     "data": {
      "text/html": [
       "<div>\n",
       "<table border=\"1\" class=\"dataframe\">\n",
       "  <thead>\n",
       "    <tr style=\"text-align: right;\">\n",
       "      <th>serial</th>\n",
       "      <th>heartbeat_end</th>\n",
       "      <th>SM15R-01-0000004D</th>\n",
       "      <th>SM15R-01-00000054</th>\n",
       "      <th>SM15R-01-0000008A</th>\n",
       "      <th>SM15R-01-0000008D</th>\n",
       "      <th>SM15R-01-0000008E</th>\n",
       "      <th>SM15R-01-00000091</th>\n",
       "      <th>SM15R-01-0000009E</th>\n",
       "      <th>SM15R-01-000000B5</th>\n",
       "      <th>SM15R-01-000000B6</th>\n",
       "      <th>...</th>\n",
       "      <th>SM20R-02-00000DB6</th>\n",
       "      <th>SM20R-02-00000DB8</th>\n",
       "      <th>SM20R-02-00000DB9</th>\n",
       "      <th>SM20R-02-00000DBA</th>\n",
       "      <th>SM20R-02-00000DBB</th>\n",
       "      <th>SM20R-02-00000DBE</th>\n",
       "      <th>SM20R-02-00000DBF</th>\n",
       "      <th>SM20R-02-00000DC6</th>\n",
       "      <th>SM20R-02-00000DC7</th>\n",
       "      <th>SM20R-02-00000DCE</th>\n",
       "    </tr>\n",
       "  </thead>\n",
       "  <tbody>\n",
       "    <tr>\n",
       "      <th>0</th>\n",
       "      <td>2016-02-01 00:00:00</td>\n",
       "      <td>0.0</td>\n",
       "      <td>0.0</td>\n",
       "      <td>0.002594</td>\n",
       "      <td>0.0</td>\n",
       "      <td>0.0</td>\n",
       "      <td>0.0</td>\n",
       "      <td>0.000000</td>\n",
       "      <td>0.0</td>\n",
       "      <td>0.000562</td>\n",
       "      <td>...</td>\n",
       "      <td>NaN</td>\n",
       "      <td>NaN</td>\n",
       "      <td>NaN</td>\n",
       "      <td>NaN</td>\n",
       "      <td>NaN</td>\n",
       "      <td>NaN</td>\n",
       "      <td>NaN</td>\n",
       "      <td>NaN</td>\n",
       "      <td>NaN</td>\n",
       "      <td>NaN</td>\n",
       "    </tr>\n",
       "    <tr>\n",
       "      <th>1</th>\n",
       "      <td>2016-02-01 00:15:00</td>\n",
       "      <td>0.0</td>\n",
       "      <td>0.0</td>\n",
       "      <td>0.000313</td>\n",
       "      <td>0.0</td>\n",
       "      <td>0.0</td>\n",
       "      <td>0.0</td>\n",
       "      <td>0.000000</td>\n",
       "      <td>0.0</td>\n",
       "      <td>0.002844</td>\n",
       "      <td>...</td>\n",
       "      <td>NaN</td>\n",
       "      <td>NaN</td>\n",
       "      <td>NaN</td>\n",
       "      <td>NaN</td>\n",
       "      <td>NaN</td>\n",
       "      <td>NaN</td>\n",
       "      <td>NaN</td>\n",
       "      <td>NaN</td>\n",
       "      <td>NaN</td>\n",
       "      <td>NaN</td>\n",
       "    </tr>\n",
       "    <tr>\n",
       "      <th>2</th>\n",
       "      <td>2016-02-01 00:30:00</td>\n",
       "      <td>0.0</td>\n",
       "      <td>0.0</td>\n",
       "      <td>0.000000</td>\n",
       "      <td>0.0</td>\n",
       "      <td>0.0</td>\n",
       "      <td>0.0</td>\n",
       "      <td>0.000937</td>\n",
       "      <td>0.0</td>\n",
       "      <td>0.002844</td>\n",
       "      <td>...</td>\n",
       "      <td>NaN</td>\n",
       "      <td>NaN</td>\n",
       "      <td>NaN</td>\n",
       "      <td>NaN</td>\n",
       "      <td>NaN</td>\n",
       "      <td>NaN</td>\n",
       "      <td>NaN</td>\n",
       "      <td>NaN</td>\n",
       "      <td>NaN</td>\n",
       "      <td>NaN</td>\n",
       "    </tr>\n",
       "    <tr>\n",
       "      <th>3</th>\n",
       "      <td>2016-02-01 00:45:00</td>\n",
       "      <td>0.0</td>\n",
       "      <td>0.0</td>\n",
       "      <td>0.000000</td>\n",
       "      <td>0.0</td>\n",
       "      <td>0.0</td>\n",
       "      <td>0.0</td>\n",
       "      <td>0.000219</td>\n",
       "      <td>0.0</td>\n",
       "      <td>0.000937</td>\n",
       "      <td>...</td>\n",
       "      <td>NaN</td>\n",
       "      <td>NaN</td>\n",
       "      <td>NaN</td>\n",
       "      <td>NaN</td>\n",
       "      <td>NaN</td>\n",
       "      <td>NaN</td>\n",
       "      <td>NaN</td>\n",
       "      <td>NaN</td>\n",
       "      <td>NaN</td>\n",
       "      <td>NaN</td>\n",
       "    </tr>\n",
       "    <tr>\n",
       "      <th>4</th>\n",
       "      <td>2016-02-01 01:00:00</td>\n",
       "      <td>0.0</td>\n",
       "      <td>0.0</td>\n",
       "      <td>0.000000</td>\n",
       "      <td>0.0</td>\n",
       "      <td>0.0</td>\n",
       "      <td>0.0</td>\n",
       "      <td>0.000000</td>\n",
       "      <td>0.0</td>\n",
       "      <td>0.000313</td>\n",
       "      <td>...</td>\n",
       "      <td>NaN</td>\n",
       "      <td>NaN</td>\n",
       "      <td>NaN</td>\n",
       "      <td>NaN</td>\n",
       "      <td>NaN</td>\n",
       "      <td>NaN</td>\n",
       "      <td>NaN</td>\n",
       "      <td>NaN</td>\n",
       "      <td>NaN</td>\n",
       "      <td>NaN</td>\n",
       "    </tr>\n",
       "  </tbody>\n",
       "</table>\n",
       "<p>5 rows × 120 columns</p>\n",
       "</div>"
      ],
      "text/plain": [
       "serial       heartbeat_end  SM15R-01-0000004D  SM15R-01-00000054  \\\n",
       "0      2016-02-01 00:00:00                0.0                0.0   \n",
       "1      2016-02-01 00:15:00                0.0                0.0   \n",
       "2      2016-02-01 00:30:00                0.0                0.0   \n",
       "3      2016-02-01 00:45:00                0.0                0.0   \n",
       "4      2016-02-01 01:00:00                0.0                0.0   \n",
       "\n",
       "serial  SM15R-01-0000008A  SM15R-01-0000008D  SM15R-01-0000008E  \\\n",
       "0                0.002594                0.0                0.0   \n",
       "1                0.000313                0.0                0.0   \n",
       "2                0.000000                0.0                0.0   \n",
       "3                0.000000                0.0                0.0   \n",
       "4                0.000000                0.0                0.0   \n",
       "\n",
       "serial  SM15R-01-00000091  SM15R-01-0000009E  SM15R-01-000000B5  \\\n",
       "0                     0.0           0.000000                0.0   \n",
       "1                     0.0           0.000000                0.0   \n",
       "2                     0.0           0.000937                0.0   \n",
       "3                     0.0           0.000219                0.0   \n",
       "4                     0.0           0.000000                0.0   \n",
       "\n",
       "serial  SM15R-01-000000B6        ...          SM20R-02-00000DB6  \\\n",
       "0                0.000562        ...                        NaN   \n",
       "1                0.002844        ...                        NaN   \n",
       "2                0.002844        ...                        NaN   \n",
       "3                0.000937        ...                        NaN   \n",
       "4                0.000313        ...                        NaN   \n",
       "\n",
       "serial  SM20R-02-00000DB8  SM20R-02-00000DB9  SM20R-02-00000DBA  \\\n",
       "0                     NaN                NaN                NaN   \n",
       "1                     NaN                NaN                NaN   \n",
       "2                     NaN                NaN                NaN   \n",
       "3                     NaN                NaN                NaN   \n",
       "4                     NaN                NaN                NaN   \n",
       "\n",
       "serial  SM20R-02-00000DBB  SM20R-02-00000DBE  SM20R-02-00000DBF  \\\n",
       "0                     NaN                NaN                NaN   \n",
       "1                     NaN                NaN                NaN   \n",
       "2                     NaN                NaN                NaN   \n",
       "3                     NaN                NaN                NaN   \n",
       "4                     NaN                NaN                NaN   \n",
       "\n",
       "serial  SM20R-02-00000DC6  SM20R-02-00000DC7  SM20R-02-00000DCE  \n",
       "0                     NaN                NaN                NaN  \n",
       "1                     NaN                NaN                NaN  \n",
       "2                     NaN                NaN                NaN  \n",
       "3                     NaN                NaN                NaN  \n",
       "4                     NaN                NaN                NaN  \n",
       "\n",
       "[5 rows x 120 columns]"
      ]
     },
     "execution_count": 18,
     "metadata": {},
     "output_type": "execute_result"
    }
   ],
   "source": [
    "detailed_bc = pd.read_csv(\"LA_detailed_consumption.csv\",parse_dates=['heartbeat_end'])\n",
    "detailed_bc = detailed_bc.loc[detailed_bc.subnet == 'BC',:]; detailed_bc.reset_index(inplace = True, drop = True)\n",
    "detailed_bc.drop(['subnet','true_power_avg'],axis = 1, inplace = True)\n",
    "detailed_bc = detailed_bc.pivot(index='heartbeat_end',columns='serial',values='kilowatt_hours')\n",
    "detailed_bc.reset_index(inplace = True);# detailed_bc.set_index(['heartbeat_end'],inplace = True);\n",
    "detailed_bc.head()"
   ]
  },
  {
   "cell_type": "markdown",
   "metadata": {},
   "source": [
    "We merge the primary loss file (created in the initial setup) and consumption file created above and sort the values based on the heartbeat_end column which is basically represents the timestamp for which the data was collected."
   ]
  },
  {
   "cell_type": "code",
   "execution_count": 155,
   "metadata": {
    "collapsed": false
   },
   "outputs": [
    {
     "data": {
      "text/html": [
       "<div>\n",
       "<table border=\"1\" class=\"dataframe\">\n",
       "  <thead>\n",
       "    <tr style=\"text-align: right;\">\n",
       "      <th></th>\n",
       "      <th>heartbeat_end</th>\n",
       "      <th>day</th>\n",
       "      <th>kwh_cust</th>\n",
       "      <th>kwh_tot</th>\n",
       "      <th>kwh_TL</th>\n",
       "      <th>kwh_NTL</th>\n",
       "      <th>tod</th>\n",
       "      <th>SM15R-01-0000004D</th>\n",
       "      <th>SM15R-01-00000054</th>\n",
       "      <th>SM15R-01-0000008A</th>\n",
       "      <th>...</th>\n",
       "      <th>SM20R-02-00000DB6</th>\n",
       "      <th>SM20R-02-00000DB8</th>\n",
       "      <th>SM20R-02-00000DB9</th>\n",
       "      <th>SM20R-02-00000DBA</th>\n",
       "      <th>SM20R-02-00000DBB</th>\n",
       "      <th>SM20R-02-00000DBE</th>\n",
       "      <th>SM20R-02-00000DBF</th>\n",
       "      <th>SM20R-02-00000DC6</th>\n",
       "      <th>SM20R-02-00000DC7</th>\n",
       "      <th>SM20R-02-00000DCE</th>\n",
       "    </tr>\n",
       "  </thead>\n",
       "  <tbody>\n",
       "    <tr>\n",
       "      <th>0</th>\n",
       "      <td>2016-02-05 00:00:00</td>\n",
       "      <td>2016-02-05</td>\n",
       "      <td>0.233750</td>\n",
       "      <td>0.374750</td>\n",
       "      <td>0.082537</td>\n",
       "      <td>0.058462</td>\n",
       "      <td>night_0_7</td>\n",
       "      <td>0.0</td>\n",
       "      <td>0.0</td>\n",
       "      <td>0.002812</td>\n",
       "      <td>...</td>\n",
       "      <td>NaN</td>\n",
       "      <td>NaN</td>\n",
       "      <td>NaN</td>\n",
       "      <td>NaN</td>\n",
       "      <td>NaN</td>\n",
       "      <td>NaN</td>\n",
       "      <td>NaN</td>\n",
       "      <td>NaN</td>\n",
       "      <td>NaN</td>\n",
       "      <td>NaN</td>\n",
       "    </tr>\n",
       "    <tr>\n",
       "      <th>1</th>\n",
       "      <td>2016-02-05 00:15:00</td>\n",
       "      <td>2016-02-05</td>\n",
       "      <td>0.230719</td>\n",
       "      <td>0.372375</td>\n",
       "      <td>0.082386</td>\n",
       "      <td>0.059270</td>\n",
       "      <td>night_0_7</td>\n",
       "      <td>0.0</td>\n",
       "      <td>0.0</td>\n",
       "      <td>0.002781</td>\n",
       "      <td>...</td>\n",
       "      <td>NaN</td>\n",
       "      <td>NaN</td>\n",
       "      <td>NaN</td>\n",
       "      <td>NaN</td>\n",
       "      <td>NaN</td>\n",
       "      <td>NaN</td>\n",
       "      <td>NaN</td>\n",
       "      <td>NaN</td>\n",
       "      <td>NaN</td>\n",
       "      <td>NaN</td>\n",
       "    </tr>\n",
       "    <tr>\n",
       "      <th>2</th>\n",
       "      <td>2016-02-05 00:30:00</td>\n",
       "      <td>2016-02-05</td>\n",
       "      <td>0.233687</td>\n",
       "      <td>0.373969</td>\n",
       "      <td>0.082184</td>\n",
       "      <td>0.058097</td>\n",
       "      <td>night_0_7</td>\n",
       "      <td>0.0</td>\n",
       "      <td>0.0</td>\n",
       "      <td>0.002969</td>\n",
       "      <td>...</td>\n",
       "      <td>NaN</td>\n",
       "      <td>NaN</td>\n",
       "      <td>NaN</td>\n",
       "      <td>NaN</td>\n",
       "      <td>NaN</td>\n",
       "      <td>NaN</td>\n",
       "      <td>NaN</td>\n",
       "      <td>NaN</td>\n",
       "      <td>NaN</td>\n",
       "      <td>NaN</td>\n",
       "    </tr>\n",
       "    <tr>\n",
       "      <th>3</th>\n",
       "      <td>2016-02-05 00:45:00</td>\n",
       "      <td>2016-02-05</td>\n",
       "      <td>0.231687</td>\n",
       "      <td>0.396719</td>\n",
       "      <td>0.082084</td>\n",
       "      <td>0.082947</td>\n",
       "      <td>night_0_7</td>\n",
       "      <td>0.0</td>\n",
       "      <td>0.0</td>\n",
       "      <td>0.002844</td>\n",
       "      <td>...</td>\n",
       "      <td>NaN</td>\n",
       "      <td>NaN</td>\n",
       "      <td>NaN</td>\n",
       "      <td>NaN</td>\n",
       "      <td>NaN</td>\n",
       "      <td>NaN</td>\n",
       "      <td>NaN</td>\n",
       "      <td>NaN</td>\n",
       "      <td>NaN</td>\n",
       "      <td>NaN</td>\n",
       "    </tr>\n",
       "    <tr>\n",
       "      <th>4</th>\n",
       "      <td>2016-02-05 01:00:00</td>\n",
       "      <td>2016-02-05</td>\n",
       "      <td>0.245031</td>\n",
       "      <td>0.422438</td>\n",
       "      <td>0.082752</td>\n",
       "      <td>0.094655</td>\n",
       "      <td>night_0_7</td>\n",
       "      <td>0.0</td>\n",
       "      <td>0.0</td>\n",
       "      <td>0.002844</td>\n",
       "      <td>...</td>\n",
       "      <td>NaN</td>\n",
       "      <td>NaN</td>\n",
       "      <td>NaN</td>\n",
       "      <td>NaN</td>\n",
       "      <td>NaN</td>\n",
       "      <td>NaN</td>\n",
       "      <td>NaN</td>\n",
       "      <td>NaN</td>\n",
       "      <td>NaN</td>\n",
       "      <td>NaN</td>\n",
       "    </tr>\n",
       "  </tbody>\n",
       "</table>\n",
       "<p>5 rows × 126 columns</p>\n",
       "</div>"
      ],
      "text/plain": [
       "        heartbeat_end        day  kwh_cust   kwh_tot    kwh_TL   kwh_NTL  \\\n",
       "0 2016-02-05 00:00:00 2016-02-05  0.233750  0.374750  0.082537  0.058462   \n",
       "1 2016-02-05 00:15:00 2016-02-05  0.230719  0.372375  0.082386  0.059270   \n",
       "2 2016-02-05 00:30:00 2016-02-05  0.233687  0.373969  0.082184  0.058097   \n",
       "3 2016-02-05 00:45:00 2016-02-05  0.231687  0.396719  0.082084  0.082947   \n",
       "4 2016-02-05 01:00:00 2016-02-05  0.245031  0.422438  0.082752  0.094655   \n",
       "\n",
       "         tod  SM15R-01-0000004D  SM15R-01-00000054  SM15R-01-0000008A  \\\n",
       "0  night_0_7                0.0                0.0           0.002812   \n",
       "1  night_0_7                0.0                0.0           0.002781   \n",
       "2  night_0_7                0.0                0.0           0.002969   \n",
       "3  night_0_7                0.0                0.0           0.002844   \n",
       "4  night_0_7                0.0                0.0           0.002844   \n",
       "\n",
       "         ...          SM20R-02-00000DB6  SM20R-02-00000DB8  SM20R-02-00000DB9  \\\n",
       "0        ...                        NaN                NaN                NaN   \n",
       "1        ...                        NaN                NaN                NaN   \n",
       "2        ...                        NaN                NaN                NaN   \n",
       "3        ...                        NaN                NaN                NaN   \n",
       "4        ...                        NaN                NaN                NaN   \n",
       "\n",
       "   SM20R-02-00000DBA  SM20R-02-00000DBB  SM20R-02-00000DBE  SM20R-02-00000DBF  \\\n",
       "0                NaN                NaN                NaN                NaN   \n",
       "1                NaN                NaN                NaN                NaN   \n",
       "2                NaN                NaN                NaN                NaN   \n",
       "3                NaN                NaN                NaN                NaN   \n",
       "4                NaN                NaN                NaN                NaN   \n",
       "\n",
       "   SM20R-02-00000DC6  SM20R-02-00000DC7  SM20R-02-00000DCE  \n",
       "0                NaN                NaN                NaN  \n",
       "1                NaN                NaN                NaN  \n",
       "2                NaN                NaN                NaN  \n",
       "3                NaN                NaN                NaN  \n",
       "4                NaN                NaN                NaN  \n",
       "\n",
       "[5 rows x 126 columns]"
      ]
     },
     "execution_count": 155,
     "metadata": {},
     "output_type": "execute_result"
    }
   ],
   "source": [
    "bc_consumption = pd.merge(losses_bc, detailed_bc, how='inner')\n",
    "bc_consumption.drop(['subnet','cost','kWh_self_inactive', 'num_cust','num_cust_off',\n",
    "                      'kWh_self_active','w_avg_tot','num_tot','month','w_avg_cust','period'],axis = 1, inplace = True)\n",
    "bc_consumption.sort_values('heartbeat_end', inplace=True)\n",
    "bc_consumption.head()"
   ]
  },
  {
   "cell_type": "markdown",
   "metadata": {},
   "source": [
    "### Programming the K-means++ algorithm"
   ]
  },
  {
   "cell_type": "markdown",
   "metadata": {},
   "source": [
    "In lieu of starting the K-means++ algorithm picking a random row as a center, we fixed the raw corresponding to `kwh_cust` as the initial center. In this way, all meters will start in same cluster with the totalizer. As the K-means++ algorithm runs, the meters with load shapes different from the totalizer's will migrate to other clusters, so at the end, the totalizer will only share its cluster with the meters that render a similar profile. To implement this we define the two fucntions below."
   ]
  },
  {
   "cell_type": "code",
   "execution_count": 149,
   "metadata": {
    "collapsed": false
   },
   "outputs": [],
   "source": [
    "def init_centers(X, k, dataset):\n",
    "    mu = np.zeros((k,X.shape[1]))\n",
    "    #cl = [np.random.choice(X.shape[0],1)]\n",
    "    op = np.arange(1,X.shape[0])\n",
    "    cl = [0]\n",
    "    mu[0] = X[0,:]\n",
    "    \n",
    "\n",
    "    for i in xrange(len(cl),k):\n",
    "        Y = mu[:i,:]\n",
    "        dist = np.min((-2*X.dot(Y.T) + np.sum(X**2,axis=1)[:,None] + np.sum(Y**2, axis=1)),axis=1)\n",
    "        dist[dist<0] = 0.0\n",
    "        pr = dist/np.sum(dist)\n",
    "#         temp = np.argmax(pr)\n",
    "        temp = np.random.choice(np.arange(X.shape[0])[op],1,p=pr[op]/np.sum(pr[op]))\n",
    "        op = np.delete(op,np.where(op)==temp,0)\n",
    "        cl.append(temp.tolist())\n",
    "        mu[i] = X[temp,:]\n",
    "\n",
    "    return mu\n",
    "\n",
    "def KMeans(X, centers, niters=20):\n",
    "    d_dist = [[99999,99999]]\n",
    "    for _ in range(niters):\n",
    "        # Assign a cluster to every row of X\n",
    "        dist = (-2*X.dot(centers.T) + np.nansum(X**2,axis=1)[:,None] + np.nansum(centers**2, axis=1))\n",
    "        d_dist.append([np.nanmean(np.nanmin(dist,axis=1)),np.nanmax(np.nanmin(dist,axis=1))])\n",
    "        if np.abs(d_dist[-2][0]-d_dist[-1][0]) < 1e-2:\n",
    "            break\n",
    "        Cl = np.eye(centers.shape[0])[np.nanargmin(dist,axis=1),:]\n",
    "        # Compute the means\n",
    "        centers = Cl.T.dot(X)/np.nansum(Cl,axis=0)[:,None]\n",
    "\n",
    "    closest = np.argmin(dist,axis=0)\n",
    "    return centers,Cl,closest,np.array(d_dist)"
   ]
  },
  {
   "cell_type": "markdown",
   "metadata": {},
   "source": [
    "### Identify suspects in defined period "
   ]
  },
  {
   "cell_type": "markdown",
   "metadata": {},
   "source": [
    "Below we have defined a function to identify suspects in a defined period.\n",
    "\n",
    "The following cleaning process to the data was undertaken before running K-means++:\n",
    "\n",
    "- Only meters that have more than 60% of valid data (i.e. no NaN values) are considered in each period.\n",
    "- Given the diversity of observed load profiles, the number of clusters the be created varies per period and corresponds to 20% of the available samples.\n",
    "- For each period, the data matrix was normalized along rows (i.e. per meter) by subtracting the mean and dividing into standard deviation.\n",
    "- The following script focuses on identifying suspects in the BC subnetwork."
   ]
  },
  {
   "cell_type": "code",
   "execution_count": 152,
   "metadata": {
    "collapsed": false
   },
   "outputs": [],
   "source": [
    "def id_suspects(df,d_start,d_end,norm=1,graph=False):\n",
    "    # Varibles initialization\n",
    "    plots = []; met={}; met['all'] = []; met['night_0_7'] = [];\n",
    "    met['daytime_7_12'] = []; met['afternoon_12_17'] = []; met['evening_17_0']= [];\n",
    "    book_pr = {}; dist = {}\n",
    "\n",
    "    # Period to analyze\n",
    "    fr = dt.datetime.strptime(d_start, '%Y-%m-%d'); to = dt.datetime.strptime(d_end, '%Y-%m-%d')\n",
    "\n",
    "    for d in df['day'].unique():\n",
    "          \n",
    "        if dt.datetime.utcfromtimestamp(d.astype('O')/1e9) < fr or dt.datetime.utcfromtimestamp(d.astype('O')/1e9) > to:\n",
    "            continue\n",
    "\n",
    "        X_tr = df.loc[df['day']==d,:].copy()\n",
    "        for tod in X_tr['tod'].unique():\n",
    "            # Proccesing the data\n",
    "            X = X_tr.loc[X_tr['tod']==tod,:].copy()\n",
    "            if X['kwh_NTL'].mean() <= 0.001:\n",
    "                continue\n",
    "            time = X['heartbeat_end'].dt.time\n",
    "            X.drop(['day','tod','kwh_NTL','kwh_TL','kwh_tot','heartbeat_end'],axis=1,inplace=True)\n",
    "            meters = X.columns\n",
    "            X = X.as_matrix().T\n",
    "\n",
    "            # Getting ride of the NaNs\n",
    "            pos = np.array([i for i,Xi in enumerate(X) if (np.count_nonzero(~np.isnan(Xi)) < 0.6*len(Xi)) \n",
    "                            or np.count_nonzero(Xi) < 0.0*len(Xi)])\n",
    "            X = np.delete(X, pos,0); meters = np.delete(meters, pos,0)\n",
    "\n",
    "            if norm == 1:\n",
    "                # Normalization 1\n",
    "                means = np.nanmean(X,axis=1)[:,None]\n",
    "                stds = np.nanstd(X,axis=1)[:,None]; stds[np.where(stds==0)] = 1e-4\n",
    "                X_norm = (X - means) / stds\n",
    "                X_norm[np.where(np.isnan(X_norm))] = 0\n",
    "            elif norm == 2:                \n",
    "                # Normalization 2\n",
    "                X_norm = np.log(X[:,1:]/X[:,:-1])\n",
    "                X_norm[np.where(np.isnan(X_norm))] = 0\n",
    "                X_norm[np.where(np.isinf(X_norm))] = 1\n",
    "                time=time[1:]\n",
    "            else:\n",
    "                # Normalization 3\n",
    "                X = np.diff(X,axis=1)\n",
    "                means = np.nanmean(X,axis=1)[:,None]\n",
    "                stds = np.nanstd(X,axis=1)[:,None]; stds[np.where(stds==0)] = 1\n",
    "                X_norm = (X - means) / stds\n",
    "                X_norm[np.where(np.isnan(X_norm))] = 0\n",
    "\n",
    "            # K-means\n",
    "            k = int(round(0.20*X_norm.shape[0]));\n",
    "            P = np.random.permutation(X_norm.shape[0])\n",
    "            mus, cl, closest, dist[np.datetime_as_string(d)[:10]+' '+tod] = KMeans(X_norm,init_centers(X_norm, k, \n",
    "                                                                                        np.datetime_as_string(d)[:10]+' '+tod))\n",
    "\n",
    "            # Denormalization of centers\n",
    "            centers = mus#*stds[closest] + means[closest]\n",
    "\n",
    "            # Booking meter ocurrance per period and per meter\n",
    "            cl_mm = np.argmax(cl[0])\n",
    "            selec = np.where(cl[:,cl_mm]==1)[0]\n",
    "            book_pr[np.datetime_as_string(d)[:10]+' '+tod] = meters[selec].tolist()\n",
    "            for i in meters[selec].tolist():\n",
    "                met['all'].extend([i])\n",
    "                met[tod].extend([i])\n",
    "            \n",
    "            if graph:\n",
    "                print 'In {0} {1}, the Master Meter is in cluster {2} with other {3} meters'.format(\n",
    "                    np.datetime_as_string(d)[:10],tod,cl_mm+1,len(selec)-1)\n",
    "                print meters[selec].tolist()\n",
    "\n",
    "                _,ax = plt.subplots(1,centers.shape[0],figsize=(20,4))\n",
    "                for i,y in enumerate(centers):\n",
    "                    idx = np.where(cl[:,i] == 1)\n",
    "                    ax[i].plot(time,X_norm[idx].T,color='gray',alpha=0.8, linewidth=0.5)\n",
    "                    ax[i].plot(time,y,color='black',linewidth=2)\n",
    "                    ax[i].set_title('{0} Cluster {1}'.format(tod,i+1))\n",
    "                    labels = ax[i].get_xticklabels(); plt.setp(labels,rotation='vertical')\n",
    "                    #ax[i].set_title(labels[i]+' using K-means');\n",
    "\n",
    "                plots.append(ax)\n",
    "\n",
    "    return met,book_pr,dist"
   ]
  },
  {
   "cell_type": "markdown",
   "metadata": {},
   "source": [
    "### Running the algorithm"
   ]
  },
  {
   "cell_type": "markdown",
   "metadata": {},
   "source": [
    "By running the described algorithm several times for every day and every period, and recording the meters that end up in the same cluster as the totalizer in each iteration, we can build rankings by number of occurrences per period and overall, and then pick the top suspects."
   ]
  },
  {
   "cell_type": "code",
   "execution_count": 156,
   "metadata": {
    "collapsed": false
   },
   "outputs": [
    {
     "name": "stderr",
     "output_type": "stream",
     "text": [
      "c:\\users\\gvizcaino\\appdata\\local\\continuum\\anaconda2\\lib\\site-packages\\ipykernel\\__main__.py:32: RuntimeWarning: invalid value encountered in divide\n"
     ]
    },
    {
     "name": "stdout",
     "output_type": "stream",
     "text": [
      "Time elapsed: 146.85 s\n"
     ]
    },
    {
     "data": {
      "text/plain": [
       "[('SM15R-01-000001F6', 3406),\n",
       " ('SM15R-01-0000011F', 2826),\n",
       " ('SM15R-01-0000021C', 2388),\n",
       " ('SM15R-01-000001DC', 2093),\n",
       " ('SM15R-01-000000ED', 1949),\n",
       " ('SM15R-01-0000031D', 1839),\n",
       " ('SM15R-01-000001D6', 1682),\n",
       " ('SM15R-01-000001A9', 1637),\n",
       " ('SM15R-01-0000028A', 1593),\n",
       " ('SM15R-01-000002B2', 1567)]"
      ]
     },
     "execution_count": 156,
     "metadata": {},
     "output_type": "execute_result"
    }
   ],
   "source": [
    "rank_meters = {}; rank_days = {};\n",
    "runs = 100; start = time.time(); E = [np.zeros((20,2))]*runs\n",
    "for i in xrange(runs):\n",
    "    M,D,E[i] = id_suspects(bc_consumption,'2016-08-01','2016-09-30')\n",
    "    for k in M:\n",
    "        if i == 0:\n",
    "            rank_meters[k] = Counter()\n",
    "        else:\n",
    "            rank_meters[k] += Counter(M[k])\n",
    "    for k in D:\n",
    "        if i == 0:\n",
    "            rank_days[k] = Counter()\n",
    "        else:\n",
    "            rank_days[k] += Counter(D[k])\n",
    "\n",
    "print 'Time elapsed: {} s'.format(np.round(time.time()-start,2))\n",
    "rank_meters['all'].most_common(11)[1:]"
   ]
  },
  {
   "cell_type": "code",
   "execution_count": 175,
   "metadata": {
    "collapsed": false
   },
   "outputs": [
    {
     "data": {
      "text/plain": [
       "[('SM15R-01-000000ED', 1172),\n",
       " ('SM15R-01-000002B2', 1076),\n",
       " ('SM15R-01-0000028A', 980),\n",
       " ('SM15R-01-0000014B', 980),\n",
       " ('SM15R-01-00000196', 909),\n",
       " ('SM15R-01-00000191', 858),\n",
       " ('SM15R-01-00000273', 854),\n",
       " ('SM15R-01-000002F1', 854),\n",
       " ('SM15R-01-000001F6', 843),\n",
       " ('SM15R-01-00000279', 809)]"
      ]
     },
     "execution_count": 175,
     "metadata": {},
     "output_type": "execute_result"
    }
   ],
   "source": [
    "rank_meters['night_0_7'].most_common(11)[1:]"
   ]
  },
  {
   "cell_type": "code",
   "execution_count": 177,
   "metadata": {
    "collapsed": false
   },
   "outputs": [
    {
     "data": {
      "text/plain": [
       "[('SM15R-01-000001F6', 2344),\n",
       " ('SM15R-01-0000011F', 2327),\n",
       " ('SM15R-01-0000021C', 1987),\n",
       " ('SM15R-01-0000031D', 1311),\n",
       " ('SM15R-01-000001DC', 1026),\n",
       " ('SM15R-01-000001A9', 981),\n",
       " ('SM15R-01-000000C8', 804),\n",
       " ('SM15R-01-0000026C', 785),\n",
       " ('SM15R-01-000001D6', 753),\n",
       " ('SM15R-01-00000143', 733)]"
      ]
     },
     "execution_count": 177,
     "metadata": {},
     "output_type": "execute_result"
    }
   ],
   "source": [
    "rank_meters['daytime_7_12'].most_common(11)[1:]"
   ]
  },
  {
   "cell_type": "code",
   "execution_count": 178,
   "metadata": {
    "collapsed": false
   },
   "outputs": [
    {
     "data": {
      "text/plain": [
       "[('SM15R-01-000000DD', 175),\n",
       " ('SM15R-01-000000C8', 158),\n",
       " ('SM15R-01-0000020F', 136),\n",
       " ('SM15R-01-0000011F', 128),\n",
       " ('SM15R-01-000000ED', 115),\n",
       " ('SM15R-01-000001A6', 99),\n",
       " ('SM15R-01-00000191', 91),\n",
       " ('SM15R-01-00000263', 87),\n",
       " ('SM15R-01-000001A9', 85),\n",
       " ('SM15R-01-00000205', 84)]"
      ]
     },
     "execution_count": 178,
     "metadata": {},
     "output_type": "execute_result"
    }
   ],
   "source": [
    "rank_meters['afternoon_12_17'].most_common(11)[1:]"
   ]
  },
  {
   "cell_type": "code",
   "execution_count": 160,
   "metadata": {
    "collapsed": false
   },
   "outputs": [
    {
     "data": {
      "text/plain": [
       "[('SM15R-01-0000028A', 304),\n",
       " ('SM15R-01-00000193', 284),\n",
       " ('SM15R-01-000001DC', 243),\n",
       " ('SM15R-01-00000200', 234),\n",
       " ('SM15R-01-000001D6', 231),\n",
       " ('SM15R-01-0000015C', 224),\n",
       " ('SM15R-01-0000013D', 223),\n",
       " ('SM15R-01-0000011F', 217),\n",
       " ('SM15R-01-00000159', 212),\n",
       " ('SM15R-01-000002B2', 211)]"
      ]
     },
     "execution_count": 160,
     "metadata": {},
     "output_type": "execute_result"
    }
   ],
   "source": [
    "rank_meters['evening_17_0'].most_common(11)[1:]"
   ]
  },
  {
   "cell_type": "markdown",
   "metadata": {},
   "source": [
    "The above list corresponds to the top-10 suspects in each period after running the K-mean++ algorithm 100 times from mid-August to end-September 2016 in sub-network \"BC\". We have ground confirmation that homes associated to the following meters committed theft during the mention period:\n",
    "- SM15R-01-0000031D\n",
    "- SM15R-01-000001A6\n",
    "- SM15R-01-000001F6\n",
    "- SM15R-01-0000021C\n",
    "\n",
    "A result to highlight is that three of these four meters (1F6, 21C and 31D) were identified among the top-10 suspects overall running the clustering algorithm. The one left (1A6) has been identified among the top-10 during the afternoon.\n",
    "\n",
    "### Plotting the results "
   ]
  },
  {
   "cell_type": "code",
   "execution_count": 171,
   "metadata": {
    "collapsed": false
   },
   "outputs": [
    {
     "name": "stdout",
     "output_type": "stream",
     "text": [
      "Correlation matrix:\n",
      "                    kwh_tot  kwh_cust   kwh_NTL\n",
      "SM15R-01-0000014B  0.844409  0.947748 -0.923003\n",
      "SM15R-01-00000159  0.839307  0.944330 -0.911346\n",
      "SM15R-01-0000027D  0.829763  0.941671 -0.918196\n",
      "SM15R-01-00000103  0.830757  0.940471 -0.917592\n",
      "SM15R-01-00000267  0.789311  0.897457 -0.894846\n",
      "SM15R-01-000001CE  0.821382  0.938851 -0.927166\n",
      "SM15R-01-00000290  0.813715  0.933207 -0.925516\n",
      "SM15R-01-000001AD  0.801705  0.920524 -0.918367\n",
      "SM15R-01-0000008A  0.803109  0.917511 -0.914058\n",
      "SM15R-01-0000022C  0.850479  0.935581 -0.888880\n",
      "SM15R-01-000001D6  0.805234  0.929964 -0.901328\n"
     ]
    },
    {
     "data": {
      "image/png": "[encoded data removed]",
      "text/plain": [
       "<matplotlib.figure.Figure at 0x10926470>"
      ]
     },
     "metadata": {},
     "output_type": "display_data"
    }
   ],
   "source": [
    "plot_period(bc_consumption,rank_days,day='2016-09-09',pd=0)"
   ]
  },
  {
   "cell_type": "markdown",
   "metadata": {},
   "source": [
    "The above plot shows the normalized load profiles of the aggregator meter for sub-network \"BC\" (`kwh_tot`), the sum of meter readings (`kwh_cust`), the estimated non-technical losses (`kwh_NTL`), and the electricity consumption profile of the top-10 suspects in the specified day period, along with the correlation matrix. In this particular example, we can see that as the non-technical losses progressively ramp-up, the totalizer goes down as well as the consumption in the identified meters. This negative correlation capture through K-means, strongly suggests that the homes associated to those meters are likely to be illegally withdrawing power during the specified period.  "
   ]
  },
  {
   "cell_type": "markdown",
   "metadata": {},
   "source": [
    "## Conclusion"
   ]
  },
  {
   "cell_type": "markdown",
   "metadata": {},
   "source": [
    "To conclude, in general, both approaches seem to have pros and cons in terms of computing time and accuracy. The unfortunate premise in this problem statement is that we have very limited ground truth about the real theft offenders but it is interesting to note that both algorithms are \"catching\" the known offenders. Apart from that there are several candidates which are common in the output of both algorithms and some other candidates which are unique. The best way further is to visualize the consumption profile of the common candidates (and then followed by the unique candidates) and compare it to  non technical loss profile to gauge the possibility of theft. Post that the top contenders need to be caught red handed on the ground in Haiti in order to not only send a message to the community, reduce theft, improve revenue collection and help stabilize the microgrid. "
   ]
  },
  {
   "cell_type": "markdown",
   "metadata": {},
   "source": [
    "## References"
   ]
  },
  {
   "cell_type": "markdown",
   "metadata": {},
   "source": [
    "[1] \"EarthSpark International.\" EarthSpark International. N.p., n.d. Web. 11 Dec. 2016.  \n",
    "(http://www.earthsparkinternational.org/)\n",
    "\n",
    "[2] \"Our Solution.\" Simple, Powerful Low Cost Smart Metering Systems for Utilities in Developing Countries and Microgrids. N.p., n.d. Web. 11 Dec. 2016.\n",
    "(http://www.sparkmeter.io/)"
   ]
  }
 ],
 "metadata": {
  "anaconda-cloud": {},
  "kernelspec": {
   "display_name": "Python [snakes]",
   "language": "python",
   "name": "Python [snakes]"
  },
  "language_info": {
   "codemirror_mode": {
    "name": "ipython",
    "version": 2
   },
   "file_extension": ".py",
   "mimetype": "text/x-python",
   "name": "python",
   "nbconvert_exporter": "python",
   "pygments_lexer": "ipython2",
   "version": "2.7.12"
  }
 },
 "nbformat": 4,
 "nbformat_minor": 0
}
